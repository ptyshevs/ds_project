{
 "cells": [
  {
   "cell_type": "code",
   "execution_count": 127,
   "metadata": {},
   "outputs": [],
   "source": [
    "import numpy as np \n",
    "import pandas as pd\n",
    "\n",
    "# Loading the multiple choices dataset, we will not look to the free form data on this study\n",
    "mc = pd.read_csv('data/multipleChoiceResponses.csv', low_memory=False)\n",
    "\n",
    "# Separating questions from answers\n",
    "# This Series stores all questions\n",
    "mcQ = mc.iloc[0,:]\n",
    "# This DataFrame stores all answers\n",
    "mcA = mc.iloc[1:,:]"
   ]
  },
  {
   "cell_type": "code",
   "execution_count": 128,
   "metadata": {},
   "outputs": [],
   "source": [
    "# removing everyone that took less than 4 minutes or more than 600 minutes to answer the survey\n",
    "less3 = mcA[round(mcA.iloc[:,0].astype(int) / 60) <= 4].index\n",
    "mcA = mcA.drop(less3, axis=0)\n",
    "more300 = mcA[round(mcA.iloc[:,0].astype(int) / 60) >= 600].index\n",
    "mcA = mcA.drop(more300, axis=0)\n",
    "\n",
    "# removing gender trolls, because we noticed from other kernels thata there are some ouliers here\n",
    "gender_trolls = mcA[(mcA.Q1 == 'Prefer to self-describe') | (mcA.Q1 == 'Prefer not to say')].index\n",
    "mcA = mcA.drop(list(gender_trolls), axis=0)\n",
    "\n",
    "# removing student trolls, because a student won't make more than 250k a year.\n",
    "student_trolls = mcA[((mcA.Q6 == 'Student') & (mcA.Q9 > '500,000+')) | \\\n",
    "                     ((mcA.Q6 == 'Student') & (mcA.Q9 > '400-500,000')) | \\\n",
    "                     ((mcA.Q6 == 'Student') & (mcA.Q9 > '300-400,000')) | \\\n",
    "                     ((mcA.Q6 == 'Student') & (mcA.Q9 > '250-300,000'))].index\n",
    "mcA = mcA.drop(list(student_trolls), axis=0)\n",
    "\n",
    "# dropping all NaN and I do not wish to disclose my approximate yearly compensation, because we are only interested in respondents that revealed their earnings\n",
    "mcA = mcA[~mcA.Q9.isnull()].copy()\n",
    "not_disclosed = mcA[mcA.Q9 == 'I do not wish to disclose my approximate yearly compensation'].index\n",
    "mcA = mcA.drop(list(not_disclosed), axis=0)"
   ]
  },
  {
   "cell_type": "code",
   "execution_count": 129,
   "metadata": {},
   "outputs": [
    {
     "data": {
      "text/html": [
       "<div>\n",
       "<style scoped>\n",
       "    .dataframe tbody tr th:only-of-type {\n",
       "        vertical-align: middle;\n",
       "    }\n",
       "\n",
       "    .dataframe tbody tr th {\n",
       "        vertical-align: top;\n",
       "    }\n",
       "\n",
       "    .dataframe thead th {\n",
       "        text-align: right;\n",
       "    }\n",
       "</style>\n",
       "<table border=\"1\" class=\"dataframe\">\n",
       "  <thead>\n",
       "    <tr style=\"text-align: right;\">\n",
       "      <th></th>\n",
       "      <th>age</th>\n",
       "      <th>country</th>\n",
       "      <th>role</th>\n",
       "      <th>employer_industry</th>\n",
       "      <th>years_experience</th>\n",
       "      <th>yearly_compensation</th>\n",
       "      <th>Q11_Part_1</th>\n",
       "      <th>Q11_Part_2</th>\n",
       "      <th>Q11_Part_3</th>\n",
       "      <th>Q11_Part_4</th>\n",
       "      <th>Q11_Part_5</th>\n",
       "      <th>Q11_Part_6</th>\n",
       "      <th>Q11_Part_7</th>\n",
       "    </tr>\n",
       "  </thead>\n",
       "  <tbody>\n",
       "    <tr>\n",
       "      <th>2</th>\n",
       "      <td>30-34</td>\n",
       "      <td>Indonesia</td>\n",
       "      <td>Other</td>\n",
       "      <td>Manufacturing/Fabrication</td>\n",
       "      <td>5-10</td>\n",
       "      <td>10-20,000</td>\n",
       "      <td>NaN</td>\n",
       "      <td>NaN</td>\n",
       "      <td>NaN</td>\n",
       "      <td>NaN</td>\n",
       "      <td>NaN</td>\n",
       "      <td>None of these activities are an important part...</td>\n",
       "      <td>NaN</td>\n",
       "    </tr>\n",
       "    <tr>\n",
       "      <th>3</th>\n",
       "      <td>30-34</td>\n",
       "      <td>United States of America</td>\n",
       "      <td>Data Scientist</td>\n",
       "      <td>I am a student</td>\n",
       "      <td>0-1</td>\n",
       "      <td>0-10,000</td>\n",
       "      <td>Analyze and understand data to influence produ...</td>\n",
       "      <td>NaN</td>\n",
       "      <td>NaN</td>\n",
       "      <td>NaN</td>\n",
       "      <td>NaN</td>\n",
       "      <td>NaN</td>\n",
       "      <td>NaN</td>\n",
       "    </tr>\n",
       "    <tr>\n",
       "      <th>5</th>\n",
       "      <td>22-24</td>\n",
       "      <td>India</td>\n",
       "      <td>Data Analyst</td>\n",
       "      <td>I am a student</td>\n",
       "      <td>0-1</td>\n",
       "      <td>0-10,000</td>\n",
       "      <td>NaN</td>\n",
       "      <td>NaN</td>\n",
       "      <td>NaN</td>\n",
       "      <td>NaN</td>\n",
       "      <td>NaN</td>\n",
       "      <td>NaN</td>\n",
       "      <td>Other</td>\n",
       "    </tr>\n",
       "  </tbody>\n",
       "</table>\n",
       "</div>"
      ],
      "text/plain": [
       "     age                   country            role          employer_industry  \\\n",
       "2  30-34                 Indonesia           Other  Manufacturing/Fabrication   \n",
       "3  30-34  United States of America  Data Scientist             I am a student   \n",
       "5  22-24                     India    Data Analyst             I am a student   \n",
       "\n",
       "  years_experience yearly_compensation  \\\n",
       "2             5-10           10-20,000   \n",
       "3              0-1            0-10,000   \n",
       "5              0-1            0-10,000   \n",
       "\n",
       "                                          Q11_Part_1 Q11_Part_2 Q11_Part_3  \\\n",
       "2                                                NaN        NaN        NaN   \n",
       "3  Analyze and understand data to influence produ...        NaN        NaN   \n",
       "5                                                NaN        NaN        NaN   \n",
       "\n",
       "  Q11_Part_4 Q11_Part_5                                         Q11_Part_6  \\\n",
       "2        NaN        NaN  None of these activities are an important part...   \n",
       "3        NaN        NaN                                                NaN   \n",
       "5        NaN        NaN                                                NaN   \n",
       "\n",
       "  Q11_Part_7  \n",
       "2        NaN  \n",
       "3        NaN  \n",
       "5      Other  "
      ]
     },
     "execution_count": 129,
     "metadata": {},
     "output_type": "execute_result"
    }
   ],
   "source": [
    "# Creating a table with personal data\n",
    "personal_data = mcA.iloc[:,:13].copy()\n",
    "\n",
    "# renaming columns\n",
    "cols = ['survey_duration', 'gender', 'gender_text', 'age', 'country', 'education_level', 'undergrad_major', 'role', 'role_text',\n",
    "        'employer_industry', 'employer_industry_text', 'years_experience', 'yearly_compensation']\n",
    "personal_data.columns = cols\n",
    "\n",
    "# Drop text and survey_duration columns \n",
    "personal_data.drop(['survey_duration', 'education_level', 'undergrad_major', 'gender',\n",
    "                    'gender_text', 'role_text', 'employer_industry_text'], axis=1, inplace=True)\n",
    "\n",
    "personal_data = pd.concat([personal_data, mcA.loc[:, [c for c in mcA.columns if c.startswith('Q11_Part')]]], axis=1)\n",
    "\n",
    "personal_data.head(3)"
   ]
  },
  {
   "cell_type": "code",
   "execution_count": 131,
   "metadata": {},
   "outputs": [],
   "source": [
    "from pandas.api.types import CategoricalDtype\n",
    "\n",
    "# transforming compensation into category type and ordening the values\n",
    "categ = ['0-10,000', '10-20,000', '20-30,000', '30-40,000', '40-50,000',\n",
    "         '50-60,000', '60-70,000', '70-80,000', '80-90,000', '90-100,000',\n",
    "         '100-125,000', '125-150,000', '150-200,000', '200-250,000', '>250,000']\n",
    "\n",
    "too_big_salary = ['250-300,000', '300-400,000', '400-500,000', '500,000+']\n",
    "personal_data.yearly_compensation = personal_data.yearly_compensation.apply(lambda x: x if x not in too_big_salary else '>250,000')\n",
    "cat_type = CategoricalDtype(categories=categ, ordered=True)\n",
    "personal_data.yearly_compensation = personal_data.yearly_compensation.astype(cat_type)\n",
    "# Doing this we are transforming the category \"I do not wish to disclose my approximate yearly compensation\" into NaN\n",
    "\n",
    "# transforming age into category type and sorting the values\n",
    "categ = ['18-21', '22-24', '25-29', '30-34', '35-39', '40-44', \n",
    "         '45-49', '50-54', '55-59', '60-69', '70-79', '80+']\n",
    "cat_type = CategoricalDtype(categories=categ, ordered=True)\n",
    "personal_data.age = personal_data.age.astype(cat_type)\n",
    "\n",
    "# transforming years of experience into category type and sorting the values\n",
    "categ = ['0-1', '1-2', '2-3', '3-4', '4-5', '5-10',\n",
    "         '10-15', '15-20', '20-25', '25-30', '30+']\n",
    "cat_type = CategoricalDtype(categories=categ, ordered=True)\n",
    "personal_data.years_experience = personal_data.years_experience.astype(cat_type)"
   ]
  },
  {
   "cell_type": "code",
   "execution_count": 135,
   "metadata": {},
   "outputs": [],
   "source": [
    "df = personal_data.copy()"
   ]
  },
  {
   "cell_type": "code",
   "execution_count": 136,
   "metadata": {},
   "outputs": [],
   "source": [
    "from pandas.api.types import CategoricalDtype\n",
    "categ = ['18-21', '22-24', '25-29', '30-34', '35-39', '40-44', \n",
    "         '45-49', '50-54', '55-59', '60-69', '70-79', '80+']\n",
    "cat_type = CategoricalDtype(categories=categ, ordered=True)\n",
    "df.age = df.age.astype(cat_type)"
   ]
  },
  {
   "cell_type": "code",
   "execution_count": 137,
   "metadata": {},
   "outputs": [
    {
     "name": "stderr",
     "output_type": "stream",
     "text": [
      "/home/ptyshevskyi/envs/loc_env/lib/python3.6/site-packages/ipykernel_launcher.py:3: SettingWithCopyWarning: \n",
      "A value is trying to be set on a copy of a slice from a DataFrame\n",
      "\n",
      "See the caveats in the documentation: http://pandas.pydata.org/pandas-docs/stable/user_guide/indexing.html#returning-a-view-versus-a-copy\n",
      "  This is separate from the ipykernel package so we can avoid doing imports until\n"
     ]
    }
   ],
   "source": [
    "df.age[df.age > '60-69'] = '60-69'\n",
    "df.age = df.age.astype(object)\n",
    "df.age[df.age == '60-69'] = '60+'"
   ]
  },
  {
   "cell_type": "code",
   "execution_count": 138,
   "metadata": {},
   "outputs": [],
   "source": [
    "special_countries = ['Australia', 'Brazil', 'Canada', 'China', 'France', 'Germany',\n",
    "                     'India', 'Italy', 'Japan', 'Mexico', 'Russia', 'Spain', 'United Kingdom of Great Britain and Northern Ireland',\n",
    "                     'United States of America']\n",
    "df.country = df.country.apply(lambda x: x if x in special_countries else 'Other')"
   ]
  },
  {
   "cell_type": "code",
   "execution_count": 139,
   "metadata": {},
   "outputs": [
    {
     "data": {
      "text/plain": [
       "Other                                     4761\n",
       "Computers/Technology                      3568\n",
       "Academics/Education                       1630\n",
       "Accounting/Finance                        1012\n",
       "Online Service/Internet-based Services     611\n",
       "Medical/Pharmaceutical                     521\n",
       "Government/Public Service                  448\n",
       "Insurance/Risk Assessment                  405\n",
       "Name: employer_industry, dtype: int64"
      ]
     },
     "execution_count": 139,
     "metadata": {},
     "output_type": "execute_result"
    }
   ],
   "source": [
    "top_industries = ['Academics/Education', 'Accounting/Finance', 'Computers/Technology',\n",
    "                  'Government/Public Service', 'Insurance/Risk Assessment', \n",
    "                  'Medical/Pharmaceutical', 'Online Service/Internet-based Services']\n",
    "df.employer_industry = df.employer_industry.apply(lambda x: x if x in top_industries else 'Other')\n",
    "df.employer_industry.value_counts()"
   ]
  },
  {
   "cell_type": "code",
   "execution_count": 140,
   "metadata": {},
   "outputs": [],
   "source": [
    "top_roles = ['Business Analyst', 'Consultant', 'Data Analyst', 'Data Engineer', 'Data Scientist',\n",
    "             'Research Scientist', 'Software Engineer', 'Student']\n",
    "df.role = df.role.apply(lambda x: x if x in top_roles else 'Other')"
   ]
  },
  {
   "cell_type": "code",
   "execution_count": 141,
   "metadata": {},
   "outputs": [],
   "source": [
    "df.years_experience = df.years_experience.apply(lambda x: x if x not in ['15-20', '20-25', '25-30'] else '15+')"
   ]
  },
  {
   "cell_type": "code",
   "execution_count": 142,
   "metadata": {},
   "outputs": [],
   "source": [
    "df.Q11_Part_1 = df.Q11_Part_1.apply(lambda x: 0 if pd.isnull(x) else 1)\n",
    "df.Q11_Part_2 = df.Q11_Part_2.apply(lambda x: 0 if pd.isnull(x) else 1)\n",
    "df.Q11_Part_3 = df.Q11_Part_3.apply(lambda x: 0 if pd.isnull(x) else 1)\n",
    "df.Q11_Part_4 = df.Q11_Part_4.apply(lambda x: 0 if pd.isnull(x) else 1)\n",
    "df.Q11_Part_5 = df.Q11_Part_5.apply(lambda x: 0 if pd.isnull(x) else 1)"
   ]
  },
  {
   "cell_type": "code",
   "execution_count": 143,
   "metadata": {},
   "outputs": [],
   "source": [
    "part6_combined = df.Q11_Part_6.copy()\n",
    "for i, row in df.iterrows():\n",
    "    isna = pd.isnull(row['Q11_Part_6']) & pd.isnull(row['Q11_Part_7'])\n",
    "    part6_combined[i] = 0 if isna else 1\n",
    "\n",
    "df = df.drop(['Q11_Part_7'], axis=1)\n",
    "df.Q11_Part_6 = part6_combined"
   ]
  },
  {
   "cell_type": "code",
   "execution_count": 144,
   "metadata": {},
   "outputs": [],
   "source": [
    "df.to_csv('salary_prediction.csv')"
   ]
  }
 ],
 "metadata": {
  "kernelspec": {
   "display_name": "Python 3",
   "language": "python",
   "name": "python3"
  },
  "language_info": {
   "codemirror_mode": {
    "name": "ipython",
    "version": 3
   },
   "file_extension": ".py",
   "mimetype": "text/x-python",
   "name": "python",
   "nbconvert_exporter": "python",
   "pygments_lexer": "ipython3",
   "version": "3.6.8"
  }
 },
 "nbformat": 4,
 "nbformat_minor": 4
}
