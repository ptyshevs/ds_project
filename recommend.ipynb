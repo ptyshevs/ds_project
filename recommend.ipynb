{
 "cells": [
  {
   "cell_type": "code",
   "execution_count": 1,
   "metadata": {},
   "outputs": [],
   "source": [
    "import pandas as pd\n",
    "import tqdm\n",
    "from sklearn.linear_model import LogisticRegression\n",
    "import pickle"
   ]
  },
  {
   "cell_type": "code",
   "execution_count": 2,
   "metadata": {},
   "outputs": [],
   "source": [
    "df = pd.read_csv('recommendation.csv', index_col=0)"
   ]
  },
  {
   "cell_type": "code",
   "execution_count": 3,
   "metadata": {},
   "outputs": [],
   "source": [
    "salary_df = pd.read_csv('salary_prediction.csv', index_col=0)"
   ]
  },
  {
   "cell_type": "code",
   "execution_count": 4,
   "metadata": {},
   "outputs": [],
   "source": [
    "target = salary_df.yearly_compensation"
   ]
  },
  {
   "cell_type": "code",
   "execution_count": 5,
   "metadata": {},
   "outputs": [],
   "source": [
    "from pandas.api.types import CategoricalDtype\n",
    "\n",
    "# transforming compensation into category type and ordening the values\n",
    "categ = ['0-10,000', '10-20,000', '20-30,000', '30-40,000', '40-50,000',\n",
    "         '50-60,000', '60-70,000', '70-80,000', '80-90,000', '90-100,000',\n",
    "         '100-125,000', '125-150,000', '150-200,000', '200-250,000', '>250,000']\n",
    "cat_type = CategoricalDtype(categories=categ, ordered=True)\n",
    "target = target.astype(cat_type)"
   ]
  },
  {
   "cell_type": "code",
   "execution_count": 6,
   "metadata": {},
   "outputs": [],
   "source": [
    "features = df.copy()"
   ]
  },
  {
   "cell_type": "code",
   "execution_count": 7,
   "metadata": {},
   "outputs": [],
   "source": [
    "def train_models(features, target, base_model, params):\n",
    "    models = []\n",
    "    for i, cat in tqdm.tqdm(enumerate(target.cat.categories[:-1])):\n",
    "    #     print(i, cat, categ[:i + 1], categ[i + 1:])\n",
    "        labels = [0] * len(categ[:i+1]) + [1] * len(categ[i + 1:])\n",
    "        map = {cat: labels[j] for j, cat in enumerate(categ)}\n",
    "        new_target = target.replace(map)\n",
    "        mod = base_model(**params)\n",
    "        mod.fit(features, new_target)\n",
    "        models.append(mod)\n",
    "    return models"
   ]
  },
  {
   "cell_type": "code",
   "execution_count": 80,
   "metadata": {},
   "outputs": [
    {
     "name": "stderr",
     "output_type": "stream",
     "text": [
      "14it [00:03,  3.85it/s]\n"
     ]
    }
   ],
   "source": [
    "models = train_models(features, target, LogisticRegression, {\"random_state\": 42, \"solver\": \"lbfgs\"})"
   ]
  },
  {
   "cell_type": "code",
   "execution_count": 82,
   "metadata": {},
   "outputs": [],
   "source": [
    "with open('recom_models.pcl', 'wb') as f:\n",
    "    pickle.dump(models, f)"
   ]
  },
  {
   "cell_type": "code",
   "execution_count": 8,
   "metadata": {},
   "outputs": [],
   "source": [
    "languages = [\"Python\", \"R\", \"SQL\", \"Bash\", \"Java\", \"Javascript\",\n",
    "             \"Visual_Basic\", \"C\", \"Matlab\", \"Scala\", \"Julia\", \"Go\",\n",
    "             \"NET\", \"PHP\", \"Ruby\", \"STATA\", \"None\", \"Other\"]"
   ]
  },
  {
   "cell_type": "code",
   "execution_count": 9,
   "metadata": {},
   "outputs": [],
   "source": [
    "frameworks = [\"Scikit_Learn\", \"TensorFlow\", \"Keras\", \"PyTorch\", \"Spark\", \"H20\",\n",
    "              \"Fastai\", \"Mxnet\", \"Caret\", \"Xgboost\", \"mlr\", \"Prophet\", \"randomForest\",\n",
    "              \"lightgbm\", \"catboost\", \"CNTK\", \"Caffe\", \"None\", \"Other\"]"
   ]
  },
  {
   "cell_type": "code",
   "execution_count": 10,
   "metadata": {},
   "outputs": [],
   "source": [
    "courses = [\"Udacity\", \"Coursera\", \"edX\", \"DataCamp\", \"DataQuest\", \"Kaggle_learn\",\n",
    "           \"Fast_AI\", \"developers_google\", \"Udemy\", \"TheSchool_AI\", \"Online_University_courses\",\n",
    "           \"None\", \"Other\"]"
   ]
  },
  {
   "cell_type": "code",
   "execution_count": 11,
   "metadata": {},
   "outputs": [],
   "source": [
    "sources = ['Twitter', 'Hacker_news', 'R_machine_learning', 'Kaggle_forum',\n",
    "           'Fastai', 'SirajRaval', 'DataTau', 'Linear_Digression_podcast',\n",
    "           'Cloud_AI_adventures', 'FiveThirtyEight', 'ArXiv', 'Journal_publication',\n",
    "           'FastMLBlog', 'KDnuggets', 'OReilly_data', 'Partially_derivative_podcast',\n",
    "             'Data_Skeptic_podcast', 'Medium_Blog', 'Torwards_data_science',\n",
    "           'Analytics_Vidhya', \"None\", 'Other']"
   ]
  },
  {
   "cell_type": "code",
   "execution_count": 12,
   "metadata": {},
   "outputs": [],
   "source": [
    "cols = ['Q16_Python', 'Q16_R', 'Q16_SQL', 'Q16_Bash', 'Q16_Java',\n",
    "                       'Q16_Javascript', 'Q16_Visual_Basic', 'Q16_C', 'Q16_Matlab',\n",
    "                       'Q16_Scala', 'Q16_Julia', 'Q16_Go', 'Q16_NET', 'Q16_PHP', 'Q16_Ruby',\n",
    "                       'Q16_STATA', 'Q16_None', 'Q16_Other', 'Q19_Scikit_Learn',\n",
    "                       'Q19_TensorFlow', 'Q19_Keras', 'Q19_PyTorch', 'Q19_Spark', 'Q19_H20',\n",
    "                       'Q19_Fastai', 'Q19_Mxnet', 'Q19_Caret', 'Q19_Xgboost', 'Q19_mlr',\n",
    "                       'Q19_Prophet', 'Q19_randomForest', 'Q19_lightgbm', 'Q19_catboost',\n",
    "                       'Q19_CNTK', 'Q19_Caffe', 'Q19_None', 'Q19_Other', 'Q38_Twitter',\n",
    "                       'Q38_Hacker_news', 'Q38_R_machine_learning', 'Q38_Kaggle_forum',\n",
    "                       'Q38_Fastai', 'Q38_SirajRaval', 'Q38_DataTau',\n",
    "                       'Q38_Linear_Digression_podcast', 'Q38_Cloud_AI_adventures',\n",
    "                       'Q38_FiveThirtyEight', 'Q38_ArXiv', 'Q38_Journal_publication',\n",
    "                       'Q38_FastMLBlog', 'Q38_KDnuggets', 'Q38_OReilly_data',\n",
    "                       'Q38_Partially_derivative_podcast', 'Q38_Data_Skeptic_podcast',\n",
    "                       'Q38_Medium_Blog', 'Q38_Torwards_data_science', 'Q38_Analytics_Vidhya',\n",
    "                       'Q38_Other', 'Q38_None', 'Q36_Udacity', 'Q36_Coursera', 'Q36_edX',\n",
    "                       'Q36_DataCamp', 'Q36_DataQuest', 'Q36_Kaggle_learn', 'Q36_Fast_AI',\n",
    "                       'Q36_developers_google', 'Q36_Udemy', 'Q36_TheSchool_AI',\n",
    "                       'Q36_Online_University_courses', 'Q36_None', 'Q36_Other']\n"
   ]
  },
  {
   "cell_type": "code",
   "execution_count": 83,
   "metadata": {},
   "outputs": [],
   "source": [
    "import pickle\n",
    "from functools import reduce\n",
    "import numpy as np\n",
    "import pandas as pd\n",
    "\n",
    "\n",
    "class RecommenderModel:\n",
    "    def __init__(self, path='recom_model.pcl'):\n",
    "        self.models = None\n",
    "        with open(path, 'rb') as f:\n",
    "            self.models = pickle.load(f)\n",
    "        self.prod = lambda x, y: x * y\n",
    "        self.cols = ['Q16_Python', 'Q16_R', 'Q16_SQL', 'Q16_Bash', 'Q16_Java',\n",
    "                       'Q16_Javascript', 'Q16_Visual_Basic', 'Q16_C', 'Q16_Matlab',\n",
    "                       'Q16_Scala', 'Q16_Julia', 'Q16_Go', 'Q16_NET', 'Q16_PHP', 'Q16_Ruby',\n",
    "                       'Q16_STATA', 'Q16_None', 'Q16_Other', 'Q19_Scikit_Learn',\n",
    "                       'Q19_TensorFlow', 'Q19_Keras', 'Q19_PyTorch', 'Q19_Spark', 'Q19_H20',\n",
    "                       'Q19_Fastai', 'Q19_Mxnet', 'Q19_Caret', 'Q19_Xgboost', 'Q19_mlr',\n",
    "                       'Q19_Prophet', 'Q19_randomForest', 'Q19_lightgbm', 'Q19_catboost',\n",
    "                       'Q19_CNTK', 'Q19_Caffe', 'Q19_None', 'Q19_Other', 'Q38_Twitter',\n",
    "                       'Q38_Hacker_news', 'Q38_R_machine_learning', 'Q38_Kaggle_forum',\n",
    "                       'Q38_Fastai', 'Q38_SirajRaval', 'Q38_DataTau',\n",
    "                       'Q38_Linear_Digression_podcast', 'Q38_Cloud_AI_adventures',\n",
    "                       'Q38_FiveThirtyEight', 'Q38_ArXiv', 'Q38_Journal_publication',\n",
    "                       'Q38_FastMLBlog', 'Q38_KDnuggets', 'Q38_OReilly_data',\n",
    "                       'Q38_Partially_derivative_podcast', 'Q38_Data_Skeptic_podcast',\n",
    "                       'Q38_Medium_Blog', 'Q38_Torwards_data_science', 'Q38_Analytics_Vidhya',\n",
    "                       'Q38_Other', 'Q38_None', 'Q36_Udacity', 'Q36_Coursera', 'Q36_edX',\n",
    "                       'Q36_DataCamp', 'Q36_DataQuest', 'Q36_Kaggle_learn', 'Q36_Fast_AI',\n",
    "                       'Q36_developers_google', 'Q36_Udemy', 'Q36_TheSchool_AI',\n",
    "                       'Q36_Online_University_courses', 'Q36_None', 'Q36_Other']\n",
    "        self.n_cols = len(self.cols)\n",
    "\n",
    "        self.languages = [\"Python\", \"R\", \"SQL\", \"Bash\", \"Java\", \"Javascript\",\n",
    "                         \"Visual_Basic\", \"C\", \"Matlab\", \"Scala\", \"Julia\", \"Go\",\n",
    "                         \"NET\", \"PHP\", \"Ruby\", \"STATA\", \"None\", \"Other\"]\n",
    "        self.lang_map = {l: 'Q16_' + l for l in self.languages}\n",
    "        \n",
    "        self.frameworks = [\"Scikit_Learn\", \"TensorFlow\", \"Keras\", \"PyTorch\", \"Spark\", \"H20\",\n",
    "              \"Fastai\", \"Mxnet\", \"Caret\", \"Xgboost\", \"mlr\", \"Prophet\", \"randomForest\",\n",
    "              \"lightgbm\", \"catboost\", \"CNTK\", \"Caffe\", \"None\", \"Other\"]\n",
    "        \n",
    "        self.framework_map = {f: 'Q19_' + f for f in self.frameworks}\n",
    "        \n",
    "        self.courses = [\"Udacity\", \"Coursera\", \"edX\", \"DataCamp\", \"DataQuest\", \"Kaggle_learn\",\n",
    "           \"Fast_AI\", \"developers_google\", \"Udemy\", \"TheSchool_AI\", \"Online_University_courses\",\n",
    "           \"None\", \"Other\"]\n",
    "        \n",
    "        self.course_map = {c: 'Q36_' + c for c in self.courses}\n",
    "        \n",
    "        self.sources = ['Twitter', 'Hacker_news', 'R_machine_learning', 'Kaggle_forum',\n",
    "           'Fastai', 'SirajRaval', 'DataTau', 'Linear_Digression_podcast',\n",
    "           'Cloud_AI_adventures', 'FiveThirtyEight', 'ArXiv', 'Journal_publication',\n",
    "           'FastMLBlog', 'KDnuggets', 'OReilly_data', 'Partially_derivative_podcast',\n",
    "             'Data_Skeptic_podcast', 'Medium_Blog', 'Torwards_data_science',\n",
    "           'Analytics_Vidhya', \"None\", 'Other']\n",
    "        \n",
    "        self.source_map = {s: 'Q38_' + s for s in self.sources}\n",
    "\n",
    "    def form_input_to_sample(self, languages=[], frameworks=[], courses=[], sources=[]):\n",
    "        sample = pd.DataFrame(np.zeros((1, self.n_cols)), columns=self.cols)\n",
    "\n",
    "        for v in languages:\n",
    "            sample['Q16_' + v] = 1\n",
    "        for v in frameworks:\n",
    "            sample['Q19_' + v] = 1\n",
    "        for v in courses:\n",
    "            sample['Q36_' + v] = 1\n",
    "        for v in sources:\n",
    "            sample['Q38_' + v] = 1\n",
    "        return sample\n",
    "\n",
    "    def predict(self, sample):\n",
    "        \"\"\"\n",
    "        Given list of binary classifiers and a sample, predict the most probable category index and the distribution\n",
    "        \"\"\"\n",
    "        binary_probabilities = [mod.predict_proba(sample) for mod in self.models]\n",
    "        neg_probs = [p[0][0] for p in binary_probabilities]\n",
    "        pos_probs = [p[0][1] for p in binary_probabilities]\n",
    "        bin_probabilities = []\n",
    "        for i in range(len(self.models)):\n",
    "            bin_prob = [p for p in pos_probs[:i]] + [neg_probs[i]]\n",
    "            reduced = reduce(self.prod, bin_prob)\n",
    "            bin_probabilities.append(reduced)\n",
    "        bin_probabilities.append(reduce(self.prod, pos_probs))\n",
    "        return np.argmax(bin_probabilities), bin_probabilities\n",
    "    \n",
    "    def summarize_distribution(self, probs):\n",
    "        \"\"\" 1 - AUC of empirical cumulative distribution \"\"\"\n",
    "        return 1 - (np.cumsum(probs).sum() / len(probs))\n",
    "\n",
    "    def get_recommendations(self, base_sample, top_n=None):\n",
    "        base_pred, base_distr = self.predict(base_sample)\n",
    "        base_sum = self.summarize_distribution(base_distr)\n",
    "\n",
    "        pairs = []\n",
    "\n",
    "        for c in self.languages:\n",
    "            if c in [\"None\", \"Other\"]:\n",
    "                continue\n",
    "            if base_sample[self.lang_map[c]].values == 0:\n",
    "                candidate = base_sample.copy()\n",
    "                candidate[self.lang_map[c]] = 1\n",
    "                _, dist = self.predict(candidate)\n",
    "                dist_sum = self.summarize_distribution(dist)\n",
    "                relative_change = (dist_sum - base_sum) / base_sum\n",
    "                pairs.append((c, relative_change))\n",
    "\n",
    "        for c in self.frameworks:\n",
    "            if c in [\"None\", \"Other\"]:\n",
    "                continue\n",
    "            if base_sample[self.framework_map[c]].values == 0:\n",
    "                candidate = base_sample.copy()\n",
    "                candidate[self.framework_map[c]] = 1\n",
    "                _, dist = self.predict(candidate)\n",
    "                dist_sum = self.summarize_distribution(dist)\n",
    "                relative_change = (dist_sum - base_sum) / base_sum\n",
    "                pairs.append((c, relative_change))     \n",
    "\n",
    "\n",
    "        for c in self.courses:\n",
    "            if c in [\"None\", \"Other\"]:  # We shouldn't even evaluate those options\n",
    "                continue\n",
    "            if base_sample[self.course_map[c]].values == 0:\n",
    "                candidate = base_sample.copy()\n",
    "                candidate[self.course_map[c]] = 1\n",
    "                _, dist = self.predict(candidate)\n",
    "                dist_sum = self.summarize_distribution(dist)\n",
    "                relative_change = (dist_sum - base_sum) / base_sum\n",
    "                pairs.append((c, relative_change))\n",
    "\n",
    "        for c in self.sources:\n",
    "            if c in [\"None\", \"Other\"]:\n",
    "                continue\n",
    "            if base_sample[self.source_map[c]].values == 0:\n",
    "                candidate = base_sample.copy()\n",
    "                candidate[self.source_map[c]] = 1\n",
    "                _, dist = self.predict(candidate)\n",
    "                dist_sum = self.summarize_distribution(dist)\n",
    "                relative_change = (dist_sum - base_sum) / base_sum\n",
    "                pairs.append((c, relative_change))  \n",
    "\n",
    "        ordered = sorted(pairs, key=lambda x:x[1], reverse=True)\n",
    "        if top_n is None:\n",
    "            return ordered\n",
    "        else:\n",
    "            return ordered[:top_n]"
   ]
  },
  {
   "cell_type": "code",
   "execution_count": 84,
   "metadata": {},
   "outputs": [],
   "source": [
    "model = RecommenderModel('recom_models.pcl')"
   ]
  },
  {
   "cell_type": "code",
   "execution_count": 85,
   "metadata": {},
   "outputs": [],
   "source": [
    "sample = model.form_input_to_sample(languages, [], ['Udemy'], ['ArXiv'])"
   ]
  },
  {
   "cell_type": "code",
   "execution_count": 31,
   "metadata": {},
   "outputs": [],
   "source": [
    "def summarize_distribution(probs):\n",
    "    \"\"\" 1 - AUC of empirical cumulative distribution \"\"\"\n",
    "    return 1 - (np.cumsum(probs).sum() / len(probs))"
   ]
  },
  {
   "cell_type": "code",
   "execution_count": 32,
   "metadata": {},
   "outputs": [
    {
     "data": {
      "text/plain": [
       "0.3049887478792853"
      ]
     },
     "execution_count": 32,
     "metadata": {},
     "output_type": "execute_result"
    }
   ],
   "source": [
    "summarize_distribution(model.predict(sample)[1])"
   ]
  },
  {
   "cell_type": "code",
   "execution_count": 39,
   "metadata": {},
   "outputs": [
    {
     "data": {
      "text/plain": [
       "0.06799592341284133"
      ]
     },
     "execution_count": 39,
     "metadata": {},
     "output_type": "execute_result"
    }
   ],
   "source": [
    "sample = model.form_input_to_sample([], [], [], [])\n",
    "summarize_distribution(model.predict(sample)[1])"
   ]
  },
  {
   "cell_type": "code",
   "execution_count": 57,
   "metadata": {},
   "outputs": [],
   "source": [
    "base_sample = model.form_input_to_sample(languages, [], ['Udemy'], ['ArXiv'])\n",
    "base_pred, base_distr = model.predict(base_sample)\n",
    "base_sum = summarize_distribution(base_distr)"
   ]
  },
  {
   "cell_type": "code",
   "execution_count": 71,
   "metadata": {
    "jupyter": {
     "source_hidden": true
    }
   },
   "outputs": [],
   "source": [
    "pairs = []\n",
    "\n",
    "for c in model.languages:\n",
    "    if c in [\"None\", \"Other\"]:\n",
    "        continue\n",
    "    if base_sample[model.lang_map[c]].values == 0:\n",
    "        candidate = base_sample.copy()\n",
    "        candidate[model.lang_map[c]] = 1\n",
    "        _, dist = model.predict(candidate)\n",
    "        dist_sum = summarize_distribution(dist)\n",
    "        relative_change = (dist_sum - base_sum) / base_sum\n",
    "        pairs.append((c, relative_change))\n",
    "\n",
    "for c in model.frameworks:\n",
    "    if c in [\"None\", \"Other\"]:\n",
    "        continue\n",
    "    if base_sample[model.framework_map[c]].values == 0:\n",
    "        candidate = base_sample.copy()\n",
    "        candidate[model.framework_map[c]] = 1\n",
    "        _, dist = model.predict(candidate)\n",
    "        dist_sum = summarize_distribution(dist)\n",
    "        relative_change = (dist_sum - base_sum) / base_sum\n",
    "        pairs.append((c, relative_change))     \n",
    "    \n",
    "\n",
    "for c in model.courses:\n",
    "    if c in [\"None\", \"Other\"]:  # We shouldn't even evaluate those options\n",
    "        continue\n",
    "    if base_sample[model.course_map[c]].values == 0:\n",
    "        candidate = base_sample.copy()\n",
    "        candidate[model.course_map[c]] = 1\n",
    "        _, dist = model.predict(candidate)\n",
    "        dist_sum = summarize_distribution(dist)\n",
    "        relative_change = (dist_sum - base_sum) / base_sum\n",
    "        pairs.append((c, relative_change))\n",
    "\n",
    "for c in model.sources:\n",
    "    if c in [\"None\", \"Other\"]:\n",
    "        continue\n",
    "    if base_sample[model.source_map[c]].values == 0:\n",
    "        candidate = base_sample.copy()\n",
    "        candidate[model.source_map[c]] = 1\n",
    "        _, dist = model.predict(candidate)\n",
    "        dist_sum = summarize_distribution(dist)\n",
    "        relative_change = (dist_sum - base_sum) / base_sum\n",
    "        pairs.append((c, relative_change))  "
   ]
  },
  {
   "cell_type": "code",
   "execution_count": 76,
   "metadata": {},
   "outputs": [],
   "source": [
    "ordered_recommendations = sorted(pairs, key=lambda x:x[1], reverse=True)"
   ]
  },
  {
   "cell_type": "code",
   "execution_count": 78,
   "metadata": {},
   "outputs": [],
   "source": [
    "def get_recommendations(base_sample, top_n=None):\n",
    "    base_pred, base_distr = model.predict(base_sample)\n",
    "    base_sum = summarize_distribution(base_distr)\n",
    "    \n",
    "    pairs = []\n",
    "\n",
    "    for c in model.languages:\n",
    "        if c in [\"None\", \"Other\"]:\n",
    "            continue\n",
    "        if base_sample[model.lang_map[c]].values == 0:\n",
    "            candidate = base_sample.copy()\n",
    "            candidate[model.lang_map[c]] = 1\n",
    "            _, dist = model.predict(candidate)\n",
    "            dist_sum = summarize_distribution(dist)\n",
    "            relative_change = (dist_sum - base_sum) / base_sum\n",
    "            pairs.append((c, relative_change))\n",
    "\n",
    "    for c in model.frameworks:\n",
    "        if c in [\"None\", \"Other\"]:\n",
    "            continue\n",
    "        if base_sample[model.framework_map[c]].values == 0:\n",
    "            candidate = base_sample.copy()\n",
    "            candidate[model.framework_map[c]] = 1\n",
    "            _, dist = model.predict(candidate)\n",
    "            dist_sum = summarize_distribution(dist)\n",
    "            relative_change = (dist_sum - base_sum) / base_sum\n",
    "            pairs.append((c, relative_change))     \n",
    "\n",
    "\n",
    "    for c in model.courses:\n",
    "        if c in [\"None\", \"Other\"]:  # We shouldn't even evaluate those options\n",
    "            continue\n",
    "        if base_sample[model.course_map[c]].values == 0:\n",
    "            candidate = base_sample.copy()\n",
    "            candidate[model.course_map[c]] = 1\n",
    "            _, dist = model.predict(candidate)\n",
    "            dist_sum = summarize_distribution(dist)\n",
    "            relative_change = (dist_sum - base_sum) / base_sum\n",
    "            pairs.append((c, relative_change))\n",
    "\n",
    "    for c in model.sources:\n",
    "        if c in [\"None\", \"Other\"]:\n",
    "            continue\n",
    "        if base_sample[model.source_map[c]].values == 0:\n",
    "            candidate = base_sample.copy()\n",
    "            candidate[model.source_map[c]] = 1\n",
    "            _, dist = model.predict(candidate)\n",
    "            dist_sum = summarize_distribution(dist)\n",
    "            relative_change = (dist_sum - base_sum) / base_sum\n",
    "            pairs.append((c, relative_change))  \n",
    "    \n",
    "    ordered = sorted(pairs, key=lambda x:x[1], reverse=True)\n",
    "    if top_n is None:\n",
    "        return ordered\n",
    "    else:\n",
    "        return ordered[:top_n]"
   ]
  },
  {
   "cell_type": "code",
   "execution_count": 82,
   "metadata": {},
   "outputs": [
    {
     "data": {
      "text/plain": [
       "[('FiveThirtyEight', 1.2990127923009935),\n",
       " ('Bash', 0.5644328391090512),\n",
       " ('Visual_Basic', 0.4591255713285377),\n",
       " ('Mxnet', 0.41048383321489534),\n",
       " ('SQL', 0.3850083760095137),\n",
       " ('Go', 0.3713216031140435),\n",
       " ('Prophet', 0.3623138749507472),\n",
       " ('Caret', 0.30980489888308105),\n",
       " ('Spark', 0.307121338845366),\n",
       " ('Linear_Digression_podcast', 0.3066419051307281),\n",
       " ('Xgboost', 0.29335959757152075),\n",
       " ('H20', 0.27326618334971664),\n",
       " ('Scala', 0.2591352315749298),\n",
       " ('ArXiv', 0.2373350047109161),\n",
       " ('OReilly_data', 0.21771520641213646),\n",
       " ('Ruby', 0.20879888916077757),\n",
       " ('Data_Skeptic_podcast', 0.20601271422457923),\n",
       " ('Partially_derivative_podcast', 0.19398755615193744),\n",
       " ('STATA', 0.18161096999887244),\n",
       " ('Coursera', 0.1805978095936583),\n",
       " ('CNTK', 0.15588124327588782),\n",
       " ('Udacity', 0.13463635794055487),\n",
       " ('Journal_publication', 0.12986807490795965),\n",
       " ('NET', 0.1267893755731145),\n",
       " ('Hacker_news', 0.1260518782208932),\n",
       " ('R', 0.12231038743519142),\n",
       " ('KDnuggets', 0.1169068710818734),\n",
       " ('TensorFlow', 0.11650279773763991),\n",
       " ('Keras', 0.10100187767007973),\n",
       " ('Fastai', 0.09476081066072434),\n",
       " ('Javascript', 0.09080463258638195),\n",
       " ('Scikit_Learn', 0.07963360624837516),\n",
       " ('Fastai', 0.06571477355500352),\n",
       " ('DataTau', 0.064277657927849),\n",
       " ('Caffe', 0.061980629534790485),\n",
       " ('Fast_AI', 0.043876139548233176),\n",
       " ('Twitter', 0.018129634839705693),\n",
       " ('Torwards_data_science', 0.0),\n",
       " ('Analytics_Vidhya', 0.0),\n",
       " ('lightgbm', -0.017422791920450046),\n",
       " ('edX', -0.03833443733005319),\n",
       " ('catboost', -0.039783070962829556),\n",
       " ('randomForest', -0.04220390764963475),\n",
       " ('Kaggle_learn', -0.05963563354918951),\n",
       " ('Udemy', -0.061887195006101035),\n",
       " ('Online_University_courses', -0.06488780971129043),\n",
       " ('PyTorch', -0.07616087473124379),\n",
       " ('DataCamp', -0.08001007094503172),\n",
       " ('Julia', -0.0887872178047965),\n",
       " ('Python', -0.11149465110741774),\n",
       " ('Cloud_AI_adventures', -0.11847994536504107),\n",
       " ('R_machine_learning', -0.12352098660613853),\n",
       " ('Kaggle_forum', -0.12507974685399162),\n",
       " ('Medium_Blog', -0.13027094203872333),\n",
       " ('DataQuest', -0.14835437898427423),\n",
       " ('developers_google', -0.1745812746761885),\n",
       " ('FastMLBlog', -0.2050940553778587),\n",
       " ('Matlab', -0.23038868444184815),\n",
       " ('mlr', -0.23392268413396822),\n",
       " ('Java', -0.23782956721369689),\n",
       " ('TheSchool_AI', -0.2951096620329393),\n",
       " ('PHP', -0.3036949288717126),\n",
       " ('SirajRaval', -0.37821704076726836),\n",
       " ('C', -0.40953555885515064)]"
      ]
     },
     "execution_count": 82,
     "metadata": {},
     "output_type": "execute_result"
    }
   ],
   "source": [
    "get_recommendations(model.form_input_to_sample([], [], [], []))"
   ]
  },
  {
   "cell_type": "code",
   "execution_count": 102,
   "metadata": {},
   "outputs": [
    {
     "name": "stdout",
     "output_type": "stream",
     "text": [
      "0.9134230901127919\n"
     ]
    },
    {
     "data": {
      "image/png": "[encoded data removed]",
      "text/plain": [
       "<Figure size 864x432 with 2 Axes>"
      ]
     },
     "metadata": {
      "needs_background": "light"
     },
     "output_type": "display_data"
    }
   ],
   "source": [
    "idx, probs = model.predict(model.form_input_to_sample([], ['H20'], [], []))\n",
    "import matplotlib.pyplot as plt\n",
    "_, ax = plt.subplots(ncols=2, figsize=(12, 6))\n",
    "cum_probs = np.cumsum(probs)\n",
    "print(cum_probs.sum() / len(probs))\n",
    "ax[0].bar(np.arange(len(probs)), probs);\n",
    "ax[1].bar(np.arange(len(probs)), cum_probs);"
   ]
  },
  {
   "cell_type": "code",
   "execution_count": 103,
   "metadata": {},
   "outputs": [
    {
     "data": {
      "text/plain": [
       "[0.30584996154092803,\n",
       " 0.33178995432793784,\n",
       " 0.20216573650574846,\n",
       " 0.10153065659050849,\n",
       " 0.04127927384092381,\n",
       " 0.012767775548829057,\n",
       " 0.0035714084440662663,\n",
       " 0.0008443562690562847,\n",
       " 0.0001672128435119893,\n",
       " 2.938435914258717e-05,\n",
       " 3.929333452674537e-06,\n",
       " 3.27354011513278e-07,\n",
       " 2.2226950118953123e-08,\n",
       " 7.99962672575207e-10,\n",
       " 1.497022300709256e-11]"
      ]
     },
     "execution_count": 103,
     "metadata": {},
     "output_type": "execute_result"
    }
   ],
   "source": [
    "probs"
   ]
  },
  {
   "cell_type": "code",
   "execution_count": 104,
   "metadata": {},
   "outputs": [
    {
     "name": "stdout",
     "output_type": "stream",
     "text": [
      "0.7427674368781291\n"
     ]
    },
    {
     "data": {
      "image/png": "[encoded data removed]",
      "text/plain": [
       "<Figure size 864x432 with 2 Axes>"
      ]
     },
     "metadata": {
      "needs_background": "light"
     },
     "output_type": "display_data"
    }
   ],
   "source": [
    "import matplotlib.pyplot as plt\n",
    "sample2 = model.form_input_to_sample([], model.frameworks, [], [])\n",
    "idx, probs = model.predict(sample2)\n",
    "cum_probs = np.cumsum(probs)\n",
    "_, ax = plt.subplots(ncols=2, figsize=(12, 6))\n",
    "print(cum_probs.sum() / len(probs))\n",
    "ax[0].bar(np.arange(len(probs)), probs);\n",
    "ax[0].set_yticks(probs)\n",
    "ax[0].grid()\n",
    "ax[1].bar(np.arange(len(probs)), cum_probs);\n",
    "ax[1].grid()"
   ]
  },
  {
   "cell_type": "code",
   "execution_count": 105,
   "metadata": {},
   "outputs": [
    {
     "data": {
      "text/plain": [
       "[0.015185450010638313,\n",
       " 0.09260013567082466,\n",
       " 0.1775048958083291,\n",
       " 0.19907101068415434,\n",
       " 0.16970297859498457,\n",
       " 0.1438439611786965,\n",
       " 0.09324124140200239,\n",
       " 0.055163762126096014,\n",
       " 0.028041741123212022,\n",
       " 0.014206153838431306,\n",
       " 0.00850596923589099,\n",
       " 0.002419552981589823,\n",
       " 0.0004955558743898112,\n",
       " 1.7055851288377178e-05,\n",
       " 5.356194717825984e-07]"
      ]
     },
     "execution_count": 105,
     "metadata": {},
     "output_type": "execute_result"
    }
   ],
   "source": [
    "probs"
   ]
  }
 ],
 "metadata": {
  "kernelspec": {
   "display_name": "Python 3",
   "language": "python",
   "name": "python3"
  },
  "language_info": {
   "codemirror_mode": {
    "name": "ipython",
    "version": 3
   },
   "file_extension": ".py",
   "mimetype": "text/x-python",
   "name": "python",
   "nbconvert_exporter": "python",
   "pygments_lexer": "ipython3",
   "version": "3.6.8"
  }
 },
 "nbformat": 4,
 "nbformat_minor": 4
}
