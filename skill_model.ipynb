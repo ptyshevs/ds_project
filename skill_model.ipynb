{
 "cells": [
  {
   "cell_type": "code",
   "execution_count": 2,
   "metadata": {},
   "outputs": [
    {
     "name": "stderr",
     "output_type": "stream",
     "text": [
      "/usr/lib/python3.6/importlib/_bootstrap.py:219: RuntimeWarning: numpy.ufunc size changed, may indicate binary incompatibility. Expected 216, got 192\n",
      "  return f(*args, **kwds)\n",
      "/usr/lib/python3.6/importlib/_bootstrap.py:219: RuntimeWarning: numpy.ufunc size changed, may indicate binary incompatibility. Expected 216, got 192\n",
      "  return f(*args, **kwds)\n",
      "/usr/lib/python3.6/importlib/_bootstrap.py:219: RuntimeWarning: numpy.ufunc size changed, may indicate binary incompatibility. Expected 192 from C header, got 216 from PyObject\n",
      "  return f(*args, **kwds)\n"
     ]
    }
   ],
   "source": [
    "import pandas as pd\n",
    "from sklearn.model_selection import train_test_split"
   ]
  },
  {
   "cell_type": "code",
   "execution_count": 3,
   "metadata": {},
   "outputs": [],
   "source": [
    "df = pd.read_csv('transformed_v2.csv', index_col=0)"
   ]
  },
  {
   "cell_type": "code",
   "execution_count": 4,
   "metadata": {},
   "outputs": [
    {
     "data": {
      "text/html": [
       "<div>\n",
       "<style scoped>\n",
       "    .dataframe tbody tr th:only-of-type {\n",
       "        vertical-align: middle;\n",
       "    }\n",
       "\n",
       "    .dataframe tbody tr th {\n",
       "        vertical-align: top;\n",
       "    }\n",
       "\n",
       "    .dataframe thead th {\n",
       "        text-align: right;\n",
       "    }\n",
       "</style>\n",
       "<table border=\"1\" class=\"dataframe\">\n",
       "  <thead>\n",
       "    <tr style=\"text-align: right;\">\n",
       "      <th></th>\n",
       "      <th>duration</th>\n",
       "      <th>sex</th>\n",
       "      <th>age</th>\n",
       "      <th>country</th>\n",
       "      <th>education</th>\n",
       "      <th>undergrad_major</th>\n",
       "      <th>role</th>\n",
       "      <th>industry</th>\n",
       "      <th>experience</th>\n",
       "      <th>salary</th>\n",
       "      <th>...</th>\n",
       "      <th>Q50_Part_5</th>\n",
       "      <th>Q50_Part_6</th>\n",
       "      <th>Q50_Part_7</th>\n",
       "      <th>Q50_Part_8</th>\n",
       "      <th>Q12_MULTIPLE_CHOICE_Advanced statistical software (SPSS, SAS, etc.)</th>\n",
       "      <th>Q12_MULTIPLE_CHOICE_Basic statistical software (Microsoft Excel, Google Sheets, etc.)</th>\n",
       "      <th>Q12_MULTIPLE_CHOICE_Business intelligence software (Salesforce, Tableau, Spotfire, etc.)</th>\n",
       "      <th>Q12_MULTIPLE_CHOICE_Cloud-based data software &amp; APIs (AWS, GCP, Azure, etc.)</th>\n",
       "      <th>Q12_MULTIPLE_CHOICE_Local or hosted development environments (RStudio, JupyterLab, etc.)</th>\n",
       "      <th>Q12_MULTIPLE_CHOICE_Other</th>\n",
       "    </tr>\n",
       "  </thead>\n",
       "  <tbody>\n",
       "    <tr>\n",
       "      <th>2</th>\n",
       "      <td>434</td>\n",
       "      <td>Male</td>\n",
       "      <td>30-34</td>\n",
       "      <td>Indonesia</td>\n",
       "      <td>Bachelor’s degree</td>\n",
       "      <td>Engineering (non-computer focused)</td>\n",
       "      <td>Other</td>\n",
       "      <td>Manufacturing/Fabrication</td>\n",
       "      <td>5-10</td>\n",
       "      <td>10-20,000</td>\n",
       "      <td>...</td>\n",
       "      <td>0</td>\n",
       "      <td>0</td>\n",
       "      <td>0</td>\n",
       "      <td>0</td>\n",
       "      <td>0</td>\n",
       "      <td>1</td>\n",
       "      <td>0</td>\n",
       "      <td>0</td>\n",
       "      <td>0</td>\n",
       "      <td>0</td>\n",
       "    </tr>\n",
       "    <tr>\n",
       "      <th>3</th>\n",
       "      <td>718</td>\n",
       "      <td>Female</td>\n",
       "      <td>30-34</td>\n",
       "      <td>United States of America</td>\n",
       "      <td>Master’s degree</td>\n",
       "      <td>Computer science (software engineering, etc.)</td>\n",
       "      <td>Data Scientist</td>\n",
       "      <td>I am a student</td>\n",
       "      <td>0-1</td>\n",
       "      <td>0-10,000</td>\n",
       "      <td>...</td>\n",
       "      <td>0</td>\n",
       "      <td>0</td>\n",
       "      <td>0</td>\n",
       "      <td>0</td>\n",
       "      <td>0</td>\n",
       "      <td>0</td>\n",
       "      <td>0</td>\n",
       "      <td>0</td>\n",
       "      <td>1</td>\n",
       "      <td>0</td>\n",
       "    </tr>\n",
       "    <tr>\n",
       "      <th>5</th>\n",
       "      <td>731</td>\n",
       "      <td>Male</td>\n",
       "      <td>22-24</td>\n",
       "      <td>India</td>\n",
       "      <td>Master’s degree</td>\n",
       "      <td>Mathematics or statistics</td>\n",
       "      <td>Data Analyst</td>\n",
       "      <td>I am a student</td>\n",
       "      <td>0-1</td>\n",
       "      <td>0-10,000</td>\n",
       "      <td>...</td>\n",
       "      <td>1</td>\n",
       "      <td>0</td>\n",
       "      <td>0</td>\n",
       "      <td>0</td>\n",
       "      <td>1</td>\n",
       "      <td>0</td>\n",
       "      <td>0</td>\n",
       "      <td>0</td>\n",
       "      <td>0</td>\n",
       "      <td>0</td>\n",
       "    </tr>\n",
       "    <tr>\n",
       "      <th>7</th>\n",
       "      <td>959</td>\n",
       "      <td>Male</td>\n",
       "      <td>35-39</td>\n",
       "      <td>Chile</td>\n",
       "      <td>Doctoral degree</td>\n",
       "      <td>Information technology, networking, or system ...</td>\n",
       "      <td>Other</td>\n",
       "      <td>Academics/Education</td>\n",
       "      <td>10-15</td>\n",
       "      <td>10-20,000</td>\n",
       "      <td>...</td>\n",
       "      <td>0</td>\n",
       "      <td>1</td>\n",
       "      <td>0</td>\n",
       "      <td>0</td>\n",
       "      <td>0</td>\n",
       "      <td>1</td>\n",
       "      <td>0</td>\n",
       "      <td>0</td>\n",
       "      <td>0</td>\n",
       "      <td>0</td>\n",
       "    </tr>\n",
       "    <tr>\n",
       "      <th>8</th>\n",
       "      <td>1758</td>\n",
       "      <td>Male</td>\n",
       "      <td>18-21</td>\n",
       "      <td>India</td>\n",
       "      <td>Master’s degree</td>\n",
       "      <td>Information technology, networking, or system ...</td>\n",
       "      <td>Other</td>\n",
       "      <td>Other</td>\n",
       "      <td>0-1</td>\n",
       "      <td>0-10,000</td>\n",
       "      <td>...</td>\n",
       "      <td>1</td>\n",
       "      <td>0</td>\n",
       "      <td>0</td>\n",
       "      <td>0</td>\n",
       "      <td>0</td>\n",
       "      <td>0</td>\n",
       "      <td>0</td>\n",
       "      <td>0</td>\n",
       "      <td>1</td>\n",
       "      <td>0</td>\n",
       "    </tr>\n",
       "  </tbody>\n",
       "</table>\n",
       "<p>5 rows × 365 columns</p>\n",
       "</div>"
      ],
      "text/plain": [
       "   duration     sex    age                   country          education  \\\n",
       "2       434    Male  30-34                 Indonesia  Bachelor’s degree   \n",
       "3       718  Female  30-34  United States of America    Master’s degree   \n",
       "5       731    Male  22-24                     India    Master’s degree   \n",
       "7       959    Male  35-39                     Chile    Doctoral degree   \n",
       "8      1758    Male  18-21                     India    Master’s degree   \n",
       "\n",
       "                                     undergrad_major            role  \\\n",
       "2                 Engineering (non-computer focused)           Other   \n",
       "3      Computer science (software engineering, etc.)  Data Scientist   \n",
       "5                          Mathematics or statistics    Data Analyst   \n",
       "7  Information technology, networking, or system ...           Other   \n",
       "8  Information technology, networking, or system ...           Other   \n",
       "\n",
       "                    industry experience     salary  ... Q50_Part_5  \\\n",
       "2  Manufacturing/Fabrication       5-10  10-20,000  ...          0   \n",
       "3             I am a student        0-1   0-10,000  ...          0   \n",
       "5             I am a student        0-1   0-10,000  ...          1   \n",
       "7        Academics/Education      10-15  10-20,000  ...          0   \n",
       "8                      Other        0-1   0-10,000  ...          1   \n",
       "\n",
       "   Q50_Part_6  Q50_Part_7  Q50_Part_8  \\\n",
       "2           0           0           0   \n",
       "3           0           0           0   \n",
       "5           0           0           0   \n",
       "7           1           0           0   \n",
       "8           0           0           0   \n",
       "\n",
       "   Q12_MULTIPLE_CHOICE_Advanced statistical software (SPSS, SAS, etc.)  \\\n",
       "2                                                  0                     \n",
       "3                                                  0                     \n",
       "5                                                  1                     \n",
       "7                                                  0                     \n",
       "8                                                  0                     \n",
       "\n",
       "   Q12_MULTIPLE_CHOICE_Basic statistical software (Microsoft Excel, Google Sheets, etc.)  \\\n",
       "2                                                  1                                       \n",
       "3                                                  0                                       \n",
       "5                                                  0                                       \n",
       "7                                                  1                                       \n",
       "8                                                  0                                       \n",
       "\n",
       "   Q12_MULTIPLE_CHOICE_Business intelligence software (Salesforce, Tableau, Spotfire, etc.)  \\\n",
       "2                                                  0                                          \n",
       "3                                                  0                                          \n",
       "5                                                  0                                          \n",
       "7                                                  0                                          \n",
       "8                                                  0                                          \n",
       "\n",
       "   Q12_MULTIPLE_CHOICE_Cloud-based data software & APIs (AWS, GCP, Azure, etc.)  \\\n",
       "2                                                  0                              \n",
       "3                                                  0                              \n",
       "5                                                  0                              \n",
       "7                                                  0                              \n",
       "8                                                  0                              \n",
       "\n",
       "   Q12_MULTIPLE_CHOICE_Local or hosted development environments (RStudio, JupyterLab, etc.)  \\\n",
       "2                                                  0                                          \n",
       "3                                                  1                                          \n",
       "5                                                  0                                          \n",
       "7                                                  0                                          \n",
       "8                                                  1                                          \n",
       "\n",
       "   Q12_MULTIPLE_CHOICE_Other  \n",
       "2                          0  \n",
       "3                          0  \n",
       "5                          0  \n",
       "7                          0  \n",
       "8                          0  \n",
       "\n",
       "[5 rows x 365 columns]"
      ]
     },
     "execution_count": 4,
     "metadata": {},
     "output_type": "execute_result"
    }
   ],
   "source": [
    "df.head()"
   ]
  },
  {
   "cell_type": "code",
   "execution_count": 14,
   "metadata": {},
   "outputs": [],
   "source": [
    "tech_columns = [c for c in df.columns if (c.startswith(\"Q12\") and c != 'Q12_MULTIPLE_CHOICE_Other') \\\n",
    " or c.startswith(\"Q11\") or c.startswith(\"Q15\") \\\n",
    " or c.startswith('Q16') or c.startswith('Q19') \\\n",
    "                or c.startswith('Q20') \\\n",
    " or c.startswith('Q22') or c.startswith('Q32') \\\n",
    " or c.startswith('Q37') or c.startswith('Q38')]"
   ]
  },
  {
   "cell_type": "code",
   "execution_count": 15,
   "metadata": {},
   "outputs": [],
   "source": [
    "target = df['salary']\n",
    "features = df[[c for c in df.columns if c != 'salary' and c in tech_columns]]"
   ]
  },
  {
   "cell_type": "code",
   "execution_count": 16,
   "metadata": {},
   "outputs": [
    {
     "data": {
      "text/plain": [
       "(12956, 136)"
      ]
     },
     "execution_count": 16,
     "metadata": {},
     "output_type": "execute_result"
    }
   ],
   "source": [
    "features_dummies = pd.get_dummies(features, dummy_na=True)\n",
    "features_dummies.shape"
   ]
  },
  {
   "cell_type": "code",
   "execution_count": 17,
   "metadata": {},
   "outputs": [],
   "source": [
    "from sklearn.linear_model import LogisticRegression\n",
    "from sklearn.ensemble import RandomForestClassifier"
   ]
  },
  {
   "cell_type": "code",
   "execution_count": 18,
   "metadata": {},
   "outputs": [],
   "source": [
    "lr = LogisticRegression(random_state=42, solver='lbfgs', multi_class='auto')"
   ]
  },
  {
   "cell_type": "code",
   "execution_count": 19,
   "metadata": {},
   "outputs": [
    {
     "name": "stderr",
     "output_type": "stream",
     "text": [
      "/home/ptyshevskyi/envs/loc_env/lib/python3.6/site-packages/sklearn/linear_model/logistic.py:947: ConvergenceWarning: lbfgs failed to converge. Increase the number of iterations.\n",
      "  \"of iterations.\", ConvergenceWarning)\n",
      "/home/ptyshevskyi/envs/loc_env/lib/python3.6/site-packages/sklearn/linear_model/logistic.py:947: ConvergenceWarning: lbfgs failed to converge. Increase the number of iterations.\n",
      "  \"of iterations.\", ConvergenceWarning)\n",
      "/home/ptyshevskyi/envs/loc_env/lib/python3.6/site-packages/sklearn/linear_model/logistic.py:947: ConvergenceWarning: lbfgs failed to converge. Increase the number of iterations.\n",
      "  \"of iterations.\", ConvergenceWarning)\n",
      "/home/ptyshevskyi/envs/loc_env/lib/python3.6/site-packages/sklearn/linear_model/logistic.py:947: ConvergenceWarning: lbfgs failed to converge. Increase the number of iterations.\n",
      "  \"of iterations.\", ConvergenceWarning)\n",
      "/home/ptyshevskyi/envs/loc_env/lib/python3.6/site-packages/sklearn/linear_model/logistic.py:947: ConvergenceWarning: lbfgs failed to converge. Increase the number of iterations.\n",
      "  \"of iterations.\", ConvergenceWarning)\n"
     ]
    },
    {
     "data": {
      "text/plain": [
       "0.2879052810296695"
      ]
     },
     "execution_count": 19,
     "metadata": {},
     "output_type": "execute_result"
    }
   ],
   "source": [
    "from sklearn.model_selection import cross_val_score\n",
    "cross_val_score(lr, features_dummies, target, cv=5).mean()"
   ]
  },
  {
   "cell_type": "code",
   "execution_count": 24,
   "metadata": {},
   "outputs": [],
   "source": [
    "rf = RandomForestClassifier(random_state=42, n_estimators=100)"
   ]
  },
  {
   "cell_type": "code",
   "execution_count": 26,
   "metadata": {},
   "outputs": [
    {
     "data": {
      "text/plain": [
       "0.2737033616726661"
      ]
     },
     "execution_count": 26,
     "metadata": {},
     "output_type": "execute_result"
    }
   ],
   "source": [
    "cross_val_score(rf, features_dummies, target, cv=5).mean()"
   ]
  },
  {
   "cell_type": "code",
   "execution_count": 28,
   "metadata": {},
   "outputs": [
    {
     "data": {
      "text/plain": [
       "RandomForestClassifier(bootstrap=True, class_weight=None, criterion='gini',\n",
       "                       max_depth=None, max_features='auto', max_leaf_nodes=None,\n",
       "                       min_impurity_decrease=0.0, min_impurity_split=None,\n",
       "                       min_samples_leaf=1, min_samples_split=2,\n",
       "                       min_weight_fraction_leaf=0.0, n_estimators=100,\n",
       "                       n_jobs=None, oob_score=False, random_state=42, verbose=0,\n",
       "                       warm_start=False)"
      ]
     },
     "execution_count": 28,
     "metadata": {},
     "output_type": "execute_result"
    }
   ],
   "source": [
    "rf.fit(features_dummies, target)"
   ]
  },
  {
   "cell_type": "code",
   "execution_count": 29,
   "metadata": {},
   "outputs": [],
   "source": [
    "import numpy as np"
   ]
  },
  {
   "cell_type": "code",
   "execution_count": 32,
   "metadata": {},
   "outputs": [],
   "source": [
    "imp_sorted = sorted(rf.feature_importances_, reverse=True)\n",
    "feature_names = features_dummies.columns[np.argsort(rf.feature_importances_)[::-1]]"
   ]
  },
  {
   "cell_type": "code",
   "execution_count": 33,
   "metadata": {},
   "outputs": [
    {
     "name": "stdout",
     "output_type": "stream",
     "text": [
      "Q38_Part_4 0.02549623976199661\n",
      "Q12_MULTIPLE_CHOICE_Local or hosted development environments (RStudio, JupyterLab, etc.) 0.023732160210156995\n",
      "Q38_Part_18 0.02315735286044925\n",
      "Q37_nan 0.022521601104215326\n",
      "Q11_Part_5 0.021117341962486828\n",
      "Q20_Scikit-Learn 0.02077654443710496\n",
      "Q15_Part_1 0.02071035974083297\n",
      "Q11_Part_3 0.02067523121452553\n",
      "Q38_Part_1 0.020287712987330408\n",
      "Q17_Python 0.020209517011534832\n",
      "Q11_Part_2 0.019812611000594765\n",
      "Q22_Matplotlib 0.019672744894270254\n",
      "Q11_Part_1 0.01899566517351932\n",
      "Q38_Part_21 0.018729309773697328\n",
      "Q32_Numerical Data 0.018526723679249648\n",
      "Q37_Coursera 0.018424163106894702\n",
      "Q38_Part_3 0.01786566158000955\n",
      "Q38_Part_14 0.017689300262272032\n",
      "Q11_Part_4 0.01740974208770689\n",
      "Q15_Part_3 0.017289002678276613\n",
      "Q12_MULTIPLE_CHOICE_Basic statistical software (Microsoft Excel, Google Sheets, etc.) 0.01693465539697963\n",
      "Q17_nan 0.016836033453009772\n",
      "Q32_nan 0.016245770991590205\n",
      "Q15_Part_2 0.01622633667948087\n",
      "Q20_nan 0.016200301230640316\n",
      "Q22_nan 0.016111378067140945\n",
      "Q38_Part_11 0.016075796127821236\n",
      "Q32_Tabular Data 0.015232677642125804\n",
      "Q38_Part_12 0.014794978674594197\n",
      "Q32_Text Data 0.013769791691719262\n",
      "Q38_Part_22 0.013418249339925118\n",
      "Q38_Part_2 0.012912674861943085\n",
      "Q15_Part_6 0.012812147106559776\n",
      "Q22_ggplot2 0.01221778408724845\n",
      "Q32_Time Series Data 0.012029629110692419\n",
      "Q38_Part_15 0.01188889825411054\n",
      "Q20_TensorFlow 0.01179977034283736\n",
      "Q20_Keras 0.011790124150308385\n",
      "Q12_MULTIPLE_CHOICE_Advanced statistical software (SPSS, SAS, etc.) 0.011623589474427792\n",
      "Q17_R 0.01104249247333134\n",
      "Q38_Part_10 0.0108445336943963\n",
      "Q38_Part_6 0.010568419227075335\n",
      "Q37_DataCamp 0.01009924782002518\n",
      "Q15_Part_4 0.010054932238091709\n",
      "Q12_MULTIPLE_CHOICE_Business intelligence software (Salesforce, Tableau, Spotfire, etc.) 0.009824445338878364\n",
      "Q12_MULTIPLE_CHOICE_Cloud-based data software & APIs (AWS, GCP, Azure, etc.) 0.009703836479339284\n",
      "Q22_Seaborn 0.009698504159710497\n",
      "Q17_SQL 0.009616053904493136\n",
      "Q37_Udemy 0.009402866080541554\n",
      "Q32_Image Data 0.009057526675801586\n",
      "Q32_Categorical Data 0.008795062573130159\n",
      "Q37_Udacity 0.0077199647075093854\n",
      "Q11_Part_6 0.007600256236001099\n",
      "Q15_Part_7 0.0075217782076532355\n",
      "Q17_Java 0.0074929511964428\n",
      "Q37_edX 0.00743324772586904\n",
      "Q38_Part_5 0.006443777001425528\n",
      "Q38_Part_17 0.006391085711651708\n",
      "Q20_Xgboost 0.006240187096316126\n",
      "Q11_Part_7 0.006093667348793007\n",
      "Q37_Kaggle Learn 0.005942524720205908\n",
      "Q17_C/C++ 0.005892302111380671\n",
      "Q38_Part_13 0.005855375268422276\n",
      "Q20_randomForest 0.005818933779539278\n",
      "Q22_Plotly 0.005764564405804791\n",
      "Q32_Sensor Data 0.0055992245863500465\n",
      "Q38_Part_8 0.005435671591299867\n",
      "Q17_C#/.NET 0.005264130028298068\n",
      "Q38_Part_9 0.0051913600848169945\n",
      "Q20_PyTorch 0.005126953370602062\n",
      "Q20_Caret 0.005096079612966781\n",
      "Q37_Online University Courses 0.004966067859159366\n",
      "Q15_Part_5 0.004421921825373958\n",
      "Q17_Javascript/Typescript 0.004390873620560851\n",
      "Q37_Other 0.004114231268528791\n",
      "Q17_MATLAB 0.003742853974238559\n",
      "Q32_Geospatial Data 0.003693095199417372\n",
      "Q38_Part_16 0.003558502735300965\n",
      "Q22_D3 0.003288138912701972\n",
      "Q17_SAS/STATA 0.0030356580193337313\n",
      "Q22_Shiny 0.002912798289324706\n",
      "Q38_Part_7 0.0027347488604724996\n",
      "Q37_Fast.AI 0.0026859398711176602\n",
      "Q20_lightgbm 0.00266244244608398\n",
      "Q20_Spark MLlib 0.0026411773425941134\n",
      "Q17_PHP 0.002599179413244771\n",
      "Q32_Genetic Data 0.0025422960737735605\n",
      "Q32_Video Data 0.002196211398264496\n",
      "Q20_H20 0.002127355834697238\n",
      "Q17_Visual Basic/VBA 0.0021091001115495084\n",
      "Q17_Other 0.0020790143134867462\n",
      "Q20_Other 0.0019357032269202116\n",
      "Q20_Fastai 0.0017915579827762936\n",
      "Q32_Audio Data 0.0017642549341474853\n",
      "Q22_Other 0.0016274486486984715\n",
      "Q17_Scala 0.0015732940908025532\n",
      "Q22_Bokeh 0.0014374201710760726\n",
      "Q37_DataQuest 0.0014359116024886354\n",
      "Q37_developers.google.com 0.001365645302520782\n",
      "Q32_Other Data 0.001338663503615424\n",
      "Q17_Bash 0.0012269301578638064\n",
      "Q17_Ruby 0.000916842614946511\n",
      "Q20_Caffe 0.0009069580374003522\n",
      "Q20_mlr 0.000898120005859589\n",
      "Q17_Go 0.0007761816266033004\n",
      "Q22_Leaflet 0.00064440837752228\n",
      "Q20_Mxnet 0.0006328124607006646\n",
      "Q20_Prophet 0.0005205976174303176\n",
      "Q22_Lattice 0.0004750319538445659\n",
      "Q20_catboost 0.0004578324671790492\n",
      "Q37_TheSchool.AI 0.0003340154292933524\n",
      "Q20_CNTK 0.00024974795816271885\n",
      "Q22_Geoplotlib 0.00020016966578799634\n",
      "Q22_Altair 0.00019690855758011815\n",
      "Q17_Julia 0.00014040857111166885\n",
      "Q38_Part_20 0.0\n",
      "Q38_Part_19 0.0\n"
     ]
    }
   ],
   "source": [
    "for feat, imp in zip(feature_names, imp_sorted):\n",
    "    print(feat, imp)"
   ]
  },
  {
   "cell_type": "code",
   "execution_count": null,
   "metadata": {},
   "outputs": [],
   "source": []
  }
 ],
 "metadata": {
  "kernelspec": {
   "display_name": "Python 3",
   "language": "python",
   "name": "python3"
  },
  "language_info": {
   "codemirror_mode": {
    "name": "ipython",
    "version": 3
   },
   "file_extension": ".py",
   "mimetype": "text/x-python",
   "name": "python",
   "nbconvert_exporter": "python",
   "pygments_lexer": "ipython3",
   "version": "3.6.8"
  }
 },
 "nbformat": 4,
 "nbformat_minor": 4
}
