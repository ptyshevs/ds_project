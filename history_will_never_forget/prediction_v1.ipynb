{
 "cells": [
  {
   "cell_type": "code",
   "execution_count": 1,
   "metadata": {},
   "outputs": [
    {
     "name": "stderr",
     "output_type": "stream",
     "text": [
      "/usr/lib/python3.6/importlib/_bootstrap.py:219: RuntimeWarning: numpy.ufunc size changed, may indicate binary incompatibility. Expected 216, got 192\n",
      "  return f(*args, **kwds)\n",
      "/usr/lib/python3.6/importlib/_bootstrap.py:219: RuntimeWarning: numpy.ufunc size changed, may indicate binary incompatibility. Expected 216, got 192\n",
      "  return f(*args, **kwds)\n"
     ]
    }
   ],
   "source": [
    "import pandas as pd\n",
    "from sklearn.model_selection import train_test_split"
   ]
  },
  {
   "cell_type": "code",
   "execution_count": 4,
   "metadata": {},
   "outputs": [],
   "source": [
    "df = pd.read_csv('transformed.csv', index_col=0)"
   ]
  },
  {
   "cell_type": "code",
   "execution_count": 5,
   "metadata": {},
   "outputs": [
    {
     "data": {
      "text/html": [
       "<div>\n",
       "<style scoped>\n",
       "    .dataframe tbody tr th:only-of-type {\n",
       "        vertical-align: middle;\n",
       "    }\n",
       "\n",
       "    .dataframe tbody tr th {\n",
       "        vertical-align: top;\n",
       "    }\n",
       "\n",
       "    .dataframe thead th {\n",
       "        text-align: right;\n",
       "    }\n",
       "</style>\n",
       "<table border=\"1\" class=\"dataframe\">\n",
       "  <thead>\n",
       "    <tr style=\"text-align: right;\">\n",
       "      <th></th>\n",
       "      <th>gender</th>\n",
       "      <th>age</th>\n",
       "      <th>country</th>\n",
       "      <th>education_level</th>\n",
       "      <th>undergrad_major</th>\n",
       "      <th>role</th>\n",
       "      <th>employer_industry</th>\n",
       "      <th>years_experience</th>\n",
       "      <th>yearly_compensation</th>\n",
       "    </tr>\n",
       "  </thead>\n",
       "  <tbody>\n",
       "    <tr>\n",
       "      <th>2</th>\n",
       "      <td>Male</td>\n",
       "      <td>30-34</td>\n",
       "      <td>Indonesia</td>\n",
       "      <td>Bachelor’s degree</td>\n",
       "      <td>Engineering (non-computer focused)</td>\n",
       "      <td>Other</td>\n",
       "      <td>Manufacturing/Fabrication</td>\n",
       "      <td>5-10</td>\n",
       "      <td>10-20,000</td>\n",
       "    </tr>\n",
       "    <tr>\n",
       "      <th>3</th>\n",
       "      <td>Female</td>\n",
       "      <td>30-34</td>\n",
       "      <td>United States of America</td>\n",
       "      <td>Master’s degree</td>\n",
       "      <td>Computer science (software engineering, etc.)</td>\n",
       "      <td>Data Scientist</td>\n",
       "      <td>I am a student</td>\n",
       "      <td>0-1</td>\n",
       "      <td>0-10,000</td>\n",
       "    </tr>\n",
       "    <tr>\n",
       "      <th>5</th>\n",
       "      <td>Male</td>\n",
       "      <td>22-24</td>\n",
       "      <td>India</td>\n",
       "      <td>Master’s degree</td>\n",
       "      <td>Mathematics or statistics</td>\n",
       "      <td>Data Analyst</td>\n",
       "      <td>I am a student</td>\n",
       "      <td>0-1</td>\n",
       "      <td>0-10,000</td>\n",
       "    </tr>\n",
       "    <tr>\n",
       "      <th>7</th>\n",
       "      <td>Male</td>\n",
       "      <td>35-39</td>\n",
       "      <td>Chile</td>\n",
       "      <td>Doctoral degree</td>\n",
       "      <td>Information technology, networking, or system ...</td>\n",
       "      <td>Other</td>\n",
       "      <td>Academics/Education</td>\n",
       "      <td>10-15</td>\n",
       "      <td>10-20,000</td>\n",
       "    </tr>\n",
       "    <tr>\n",
       "      <th>8</th>\n",
       "      <td>Male</td>\n",
       "      <td>18-21</td>\n",
       "      <td>India</td>\n",
       "      <td>Master’s degree</td>\n",
       "      <td>Information technology, networking, or system ...</td>\n",
       "      <td>Other</td>\n",
       "      <td>Other</td>\n",
       "      <td>0-1</td>\n",
       "      <td>0-10,000</td>\n",
       "    </tr>\n",
       "  </tbody>\n",
       "</table>\n",
       "</div>"
      ],
      "text/plain": [
       "   gender    age                   country    education_level  \\\n",
       "2    Male  30-34                 Indonesia  Bachelor’s degree   \n",
       "3  Female  30-34  United States of America    Master’s degree   \n",
       "5    Male  22-24                     India    Master’s degree   \n",
       "7    Male  35-39                     Chile    Doctoral degree   \n",
       "8    Male  18-21                     India    Master’s degree   \n",
       "\n",
       "                                     undergrad_major            role  \\\n",
       "2                 Engineering (non-computer focused)           Other   \n",
       "3      Computer science (software engineering, etc.)  Data Scientist   \n",
       "5                          Mathematics or statistics    Data Analyst   \n",
       "7  Information technology, networking, or system ...           Other   \n",
       "8  Information technology, networking, or system ...           Other   \n",
       "\n",
       "           employer_industry years_experience yearly_compensation  \n",
       "2  Manufacturing/Fabrication             5-10           10-20,000  \n",
       "3             I am a student              0-1            0-10,000  \n",
       "5             I am a student              0-1            0-10,000  \n",
       "7        Academics/Education            10-15           10-20,000  \n",
       "8                      Other              0-1            0-10,000  "
      ]
     },
     "execution_count": 5,
     "metadata": {},
     "output_type": "execute_result"
    }
   ],
   "source": [
    "df.head()"
   ]
  },
  {
   "cell_type": "code",
   "execution_count": 8,
   "metadata": {},
   "outputs": [],
   "source": [
    "df_tf = pd.get_dummies(df[[c for c in df.columns if c != 'yearly_compensation']])"
   ]
  },
  {
   "cell_type": "code",
   "execution_count": 9,
   "metadata": {},
   "outputs": [],
   "source": [
    "target = df['yearly_compensation']"
   ]
  },
  {
   "cell_type": "code",
   "execution_count": 11,
   "metadata": {},
   "outputs": [],
   "source": [
    "from sklearn.linear_model import LogisticRegression\n",
    "from sklearn.ensemble import RandomForestClassifier"
   ]
  },
  {
   "cell_type": "code",
   "execution_count": 21,
   "metadata": {},
   "outputs": [],
   "source": [
    "lr = LogisticRegression(random_state=42, solver='lbfgs', multi_class='auto')"
   ]
  },
  {
   "cell_type": "code",
   "execution_count": 22,
   "metadata": {},
   "outputs": [
    {
     "name": "stderr",
     "output_type": "stream",
     "text": [
      "/home/ptyshevskyi/envs/loc_env/lib/python3.6/site-packages/sklearn/linear_model/logistic.py:947: ConvergenceWarning: lbfgs failed to converge. Increase the number of iterations.\n",
      "  \"of iterations.\", ConvergenceWarning)\n",
      "/home/ptyshevskyi/envs/loc_env/lib/python3.6/site-packages/sklearn/linear_model/logistic.py:947: ConvergenceWarning: lbfgs failed to converge. Increase the number of iterations.\n",
      "  \"of iterations.\", ConvergenceWarning)\n",
      "/home/ptyshevskyi/envs/loc_env/lib/python3.6/site-packages/sklearn/linear_model/logistic.py:947: ConvergenceWarning: lbfgs failed to converge. Increase the number of iterations.\n",
      "  \"of iterations.\", ConvergenceWarning)\n",
      "/home/ptyshevskyi/envs/loc_env/lib/python3.6/site-packages/sklearn/linear_model/logistic.py:947: ConvergenceWarning: lbfgs failed to converge. Increase the number of iterations.\n",
      "  \"of iterations.\", ConvergenceWarning)\n",
      "/home/ptyshevskyi/envs/loc_env/lib/python3.6/site-packages/sklearn/linear_model/logistic.py:947: ConvergenceWarning: lbfgs failed to converge. Increase the number of iterations.\n",
      "  \"of iterations.\", ConvergenceWarning)\n"
     ]
    },
    {
     "data": {
      "text/plain": [
       "0.37232911833769966"
      ]
     },
     "execution_count": 22,
     "metadata": {},
     "output_type": "execute_result"
    }
   ],
   "source": [
    "from sklearn.model_selection import cross_val_score\n",
    "cross_val_score(lr, df_tf, target, cv=5).mean()"
   ]
  },
  {
   "cell_type": "code",
   "execution_count": 19,
   "metadata": {},
   "outputs": [],
   "source": [
    "rf = RandomForestClassifier(random_state=42, n_estimators=100)"
   ]
  },
  {
   "cell_type": "code",
   "execution_count": 20,
   "metadata": {},
   "outputs": [
    {
     "data": {
      "text/plain": [
       "0.3522016642823818"
      ]
     },
     "execution_count": 20,
     "metadata": {},
     "output_type": "execute_result"
    }
   ],
   "source": [
    "cross_val_score(rf, df_tf, target, cv=5).mean()"
   ]
  },
  {
   "cell_type": "code",
   "execution_count": 34,
   "metadata": {},
   "outputs": [
    {
     "data": {
      "text/plain": [
       "RandomForestClassifier(bootstrap=True, class_weight=None, criterion='gini',\n",
       "                       max_depth=None, max_features='auto', max_leaf_nodes=None,\n",
       "                       min_impurity_decrease=0.0, min_impurity_split=None,\n",
       "                       min_samples_leaf=1, min_samples_split=2,\n",
       "                       min_weight_fraction_leaf=0.0, n_estimators=100,\n",
       "                       n_jobs=None, oob_score=False, random_state=42, verbose=0,\n",
       "                       warm_start=False)"
      ]
     },
     "execution_count": 34,
     "metadata": {},
     "output_type": "execute_result"
    }
   ],
   "source": [
    "rf.fit(df_tf, target)"
   ]
  },
  {
   "cell_type": "code",
   "execution_count": 31,
   "metadata": {},
   "outputs": [],
   "source": [
    "import numpy as np"
   ]
  },
  {
   "cell_type": "code",
   "execution_count": 40,
   "metadata": {},
   "outputs": [],
   "source": [
    "imp_sorted = sorted(rf.feature_importances_, reverse=True)\n",
    "feature_names = df_tf.columns[np.argsort(rf.feature_importances_)[::-1]]"
   ]
  },
  {
   "cell_type": "code",
   "execution_count": 41,
   "metadata": {},
   "outputs": [
    {
     "name": "stdout",
     "output_type": "stream",
     "text": [
      "country_United States of America 0.02809397613868252\n",
      "role_Student 0.02728839877511941\n",
      "employer_industry_Computers/Technology 0.026158969502079157\n",
      "employer_industry_I am a student 0.026141207842908642\n",
      "undergrad_major_Computer science (software engineering, etc.) 0.021907500442187\n",
      "education_level_Master’s degree 0.021705594162483646\n",
      "undergrad_major_Engineering (non-computer focused) 0.02010754600218728\n",
      "undergrad_major_Mathematics or statistics 0.018764539246544525\n",
      "years_experience_1-2 0.018593770723713727\n",
      "role_Data Scientist 0.018281314931296654\n",
      "years_experience_0-1 0.017911631607573447\n",
      "years_experience_2-3 0.01766071932174207\n",
      "role_Software Engineer 0.017333668845555116\n",
      "years_experience_5-10 0.01652253120621685\n",
      "country_India 0.016436084273638567\n",
      "education_level_Bachelor’s degree 0.016328575791324323\n",
      "age_22-24 0.016218146590490333\n",
      "gender_Female 0.015553914199076906\n",
      "gender_Male 0.015533802882107534\n",
      "employer_industry_Accounting/Finance 0.014849105806778397\n",
      "education_level_Doctoral degree 0.01466515198460886\n",
      "age_30-34 0.014517719464122114\n",
      "years_experience_3-4 0.014427451183321975\n",
      "undergrad_major_A business discipline (accounting, economics, finance, etc.) 0.01439623315989345\n",
      "age_25-29 0.013714271348818396\n",
      "role_Data Analyst 0.013642317702475863\n",
      "years_experience_4-5 0.013482792941445039\n",
      "age_18-21 0.013382166684356728\n",
      "employer_industry_Academics/Education 0.013190040524579344\n",
      "role_Other 0.01285257779726145\n",
      "employer_industry_Other 0.011837137157665364\n",
      "age_35-39 0.011712415219835532\n",
      "employer_industry_Online Service/Internet-based Services 0.011691588339910169\n",
      "undergrad_major_Physics or astronomy 0.011010321826755147\n",
      "years_experience_10-15 0.010422083093229638\n",
      "employer_industry_Medical/Pharmaceutical 0.009983641418658677\n",
      "role_Research Scientist 0.009947911933665851\n",
      "undergrad_major_Medical or life sciences (biology, chemistry, medicine, etc.) 0.009047232822175627\n",
      "employer_industry_Insurance/Risk Assessment 0.00895117215619043\n",
      "role_Consultant 0.008799735103719198\n",
      "role_Data Engineer 0.00879252803038721\n",
      "age_40-44 0.008774200108777105\n",
      "role_Business Analyst 0.008678848897989793\n",
      "employer_industry_Government/Public Service 0.008369607684752492\n",
      "country_Canada 0.007958205021284212\n",
      "country_United Kingdom of Great Britain and Northern Ireland 0.007920539332860396\n",
      "country_China 0.007917643577429665\n",
      "undergrad_major_Information technology, networking, or system administration 0.007779378852046608\n",
      "undergrad_major_Other 0.007531352934085962\n",
      "employer_industry_Manufacturing/Fabrication 0.00748566723807239\n",
      "country_Other 0.007204517289351175\n",
      "employer_industry_Retail/Sales 0.007008834879009324\n",
      "country_Brazil 0.006881753012071968\n",
      "employer_industry_Energy/Mining 0.006843976418662277\n",
      "country_Germany 0.006780902186838117\n",
      "undergrad_major_Social sciences (anthropology, psychology, sociology, etc.) 0.006711125910801569\n",
      "employer_industry_Marketing/CRM 0.0067051746862772064\n",
      "role_Manager 0.006645033123509883\n",
      "country_Russia 0.00654943552636893\n",
      "employer_industry_Broadcasting/Communications 0.006510966899187159\n",
      "age_45-49 0.006330754441680383\n",
      "country_France 0.006244313665078977\n",
      "country_Spain 0.005959982296312258\n",
      "role_Research Assistant 0.005949661913505298\n",
      "employer_industry_Online Business/Internet-based Sales 0.0058737737339639275\n",
      "years_experience_15-20 0.005810513532311901\n",
      "role_Product/Project Manager 0.005605516228997492\n",
      "country_Japan 0.0055616944901169686\n",
      "education_level_Some college/university study without earning a bachelor’s degree 0.005387954148439732\n",
      "age_50-54 0.005299284784489108\n",
      "employer_industry_Shipping/Transportation 0.0051544471754114505\n",
      "education_level_Professional degree 0.0050938917612138755\n",
      "role_Chief Officer 0.004717474978758208\n",
      "country_Australia 0.004606121912166326\n",
      "country_Italy 0.004357544700007177\n",
      "country_Poland 0.004263491539863106\n",
      "undergrad_major_Humanities (history, literature, philosophy, etc.) 0.004097711778581693\n",
      "years_experience_20-25 0.003987908438165184\n",
      "country_Netherlands 0.003979111797457777\n",
      "employer_industry_Military/Security/Defense 0.0037877090967662163\n",
      "country_Turkey 0.003544362997540577\n",
      "age_55-59 0.003419080774283731\n",
      "employer_industry_Non-profit/Service 0.003360993877108594\n",
      "undergrad_major_Environmental science or geology 0.003254616146153842\n",
      "country_Sweden 0.0031866340173608326\n",
      "employer_industry_Hospitality/Entertainment/Sports 0.003185357116136507\n",
      "country_Singapore 0.0031221512828140713\n",
      "country_Mexico 0.003093798369682928\n",
      "role_Statistician 0.003030120033793226\n",
      "country_Ukraine 0.0030251414322205643\n",
      "country_Switzerland 0.0030210724186127175\n",
      "country_Israel 0.002894861333120276\n",
      "age_60-69 0.0027918879236767426\n",
      "country_Nigeria 0.0027757284284768537\n",
      "country_Denmark 0.002550428491706601\n",
      "country_I do not wish to disclose my location 0.0025227913492787356\n",
      "country_South Korea 0.0024573768656218544\n",
      "country_Portugal 0.0024006800847239406\n",
      "role_DBA/Database Engineer 0.0023689793560836615\n",
      "country_Argentina 0.002295044867330809\n",
      "country_South Africa 0.0022827640714128896\n",
      "years_experience_25-30 0.0021770651865130296\n",
      "country_Colombia 0.0021434742638007033\n",
      "country_Viet Nam 0.0021176199074238494\n",
      "country_Ireland 0.0020908763064230846\n",
      "role_Developer Advocate 0.0019675847232158406\n",
      "country_Belgium 0.0019214349385164233\n",
      "country_Pakistan 0.0018485737608274033\n",
      "country_Indonesia 0.0018434800790822444\n",
      "education_level_I prefer not to answer 0.0017267798855679392\n",
      "country_Greece 0.0017243244132870564\n",
      "role_Marketing Analyst 0.0016849837148710531\n",
      "country_Norway 0.0016444583159245388\n",
      "country_Hungary 0.0016435899210740543\n",
      "role_Principal Investigator 0.0015972419624020293\n",
      "education_level_No formal education past high school 0.0015879220327082594\n",
      "country_New Zealand 0.0015393834094908074\n",
      "country_Belarus 0.0015087425978478127\n",
      "role_Salesperson 0.0014953845607577143\n",
      "country_Finland 0.0014784779678559431\n",
      "country_Malaysia 0.0014585691341422716\n",
      "country_Romania 0.0014462988670752494\n",
      "undergrad_major_Fine arts or performing arts 0.0013968023749883277\n",
      "country_Chile 0.0013456322037941478\n",
      "country_Iran, Islamic Republic of... 0.0013324880894066016\n",
      "country_Hong Kong (S.A.R.) 0.0012423085807929243\n",
      "country_Czech Republic 0.0012212416821329385\n",
      "country_Egypt 0.0012168417976651125\n",
      "country_Thailand 0.0012083227562320396\n",
      "undergrad_major_I never declared a major 0.0011862994463216379\n",
      "country_Philippines 0.0011169131734804648\n",
      "country_Kenya 0.0011025708822382824\n",
      "country_Republic of Korea 0.0010671929314033898\n",
      "country_Austria 0.001048163249275657\n",
      "country_Bangladesh 0.0009578681491467031\n",
      "country_Peru 0.0008757990354176728\n",
      "country_Tunisia 0.0006528283283663\n",
      "age_70-79 0.0006342608175281629\n",
      "country_Morocco 0.0006074980820745219\n",
      "role_Data Journalist 0.0002764454462696338\n",
      "age_80+ 9.687161007283847e-05\n"
     ]
    }
   ],
   "source": [
    "for feat, imp in zip(feature_names, imp_sorted):\n",
    "    print(feat, imp)"
   ]
  },
  {
   "cell_type": "code",
   "execution_count": null,
   "metadata": {},
   "outputs": [],
   "source": []
  }
 ],
 "metadata": {
  "kernelspec": {
   "display_name": "Python 3",
   "language": "python",
   "name": "python3"
  },
  "language_info": {
   "codemirror_mode": {
    "name": "ipython",
    "version": 3
   },
   "file_extension": ".py",
   "mimetype": "text/x-python",
   "name": "python",
   "nbconvert_exporter": "python",
   "pygments_lexer": "ipython3",
   "version": "3.6.8"
  }
 },
 "nbformat": 4,
 "nbformat_minor": 4
}
