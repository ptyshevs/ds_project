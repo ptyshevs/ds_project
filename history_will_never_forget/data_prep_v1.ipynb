{
 "cells": [
  {
   "cell_type": "code",
   "execution_count": 1,
   "metadata": {},
   "outputs": [],
   "source": [
    "import numpy as np \n",
    "import pandas as pd\n",
    "\n",
    "# Loading the multiple choices dataset, we will not look to the free form data on this study\n",
    "mc = pd.read_csv('data/multipleChoiceResponses.csv', low_memory=False)\n",
    "\n",
    "# Separating questions from answers\n",
    "# This Series stores all questions\n",
    "mcQ = mc.iloc[0,:]\n",
    "# This DataFrame stores all answers\n",
    "mcA = mc.iloc[1:,:]"
   ]
  },
  {
   "cell_type": "code",
   "execution_count": 2,
   "metadata": {},
   "outputs": [],
   "source": [
    "# removing everyone that took less than 4 minutes or more than 600 minutes to answer the survey\n",
    "less3 = mcA[round(mcA.iloc[:,0].astype(int) / 60) <= 4].index\n",
    "mcA = mcA.drop(less3, axis=0)\n",
    "more300 = mcA[round(mcA.iloc[:,0].astype(int) / 60) >= 600].index\n",
    "mcA = mcA.drop(more300, axis=0)\n",
    "\n",
    "# removing gender trolls, because we noticed from other kernels thata there are some ouliers here\n",
    "gender_trolls = mcA[(mcA.Q1 == 'Prefer to self-describe') | (mcA.Q1 == 'Prefer not to say')].index\n",
    "mcA = mcA.drop(list(gender_trolls), axis=0)\n",
    "\n",
    "# removing student trolls, because a student won't make more than 250k a year.\n",
    "student_trolls = mcA[((mcA.Q6 == 'Student') & (mcA.Q9 > '500,000+')) | \\\n",
    "                     ((mcA.Q6 == 'Student') & (mcA.Q9 > '400-500,000')) | \\\n",
    "                     ((mcA.Q6 == 'Student') & (mcA.Q9 > '300-400,000')) | \\\n",
    "                     ((mcA.Q6 == 'Student') & (mcA.Q9 > '250-300,000'))].index\n",
    "mcA = mcA.drop(list(student_trolls), axis=0)\n",
    "\n",
    "# dropping all NaN and I do not wish to disclose my approximate yearly compensation, because we are only interested in respondents that revealed their earnings\n",
    "mcA = mcA[~mcA.Q9.isnull()].copy()\n",
    "not_disclosed = mcA[mcA.Q9 == 'I do not wish to disclose my approximate yearly compensation'].index\n",
    "mcA = mcA.drop(list(not_disclosed), axis=0)"
   ]
  },
  {
   "cell_type": "code",
   "execution_count": 3,
   "metadata": {},
   "outputs": [
    {
     "data": {
      "text/html": [
       "<div>\n",
       "<style scoped>\n",
       "    .dataframe tbody tr th:only-of-type {\n",
       "        vertical-align: middle;\n",
       "    }\n",
       "\n",
       "    .dataframe tbody tr th {\n",
       "        vertical-align: top;\n",
       "    }\n",
       "\n",
       "    .dataframe thead th {\n",
       "        text-align: right;\n",
       "    }\n",
       "</style>\n",
       "<table border=\"1\" class=\"dataframe\">\n",
       "  <thead>\n",
       "    <tr style=\"text-align: right;\">\n",
       "      <th></th>\n",
       "      <th>gender</th>\n",
       "      <th>age</th>\n",
       "      <th>country</th>\n",
       "      <th>education_level</th>\n",
       "      <th>undergrad_major</th>\n",
       "      <th>role</th>\n",
       "      <th>employer_industry</th>\n",
       "      <th>years_experience</th>\n",
       "      <th>yearly_compensation</th>\n",
       "    </tr>\n",
       "  </thead>\n",
       "  <tbody>\n",
       "    <tr>\n",
       "      <th>2</th>\n",
       "      <td>Male</td>\n",
       "      <td>30-34</td>\n",
       "      <td>Indonesia</td>\n",
       "      <td>Bachelor’s degree</td>\n",
       "      <td>Engineering (non-computer focused)</td>\n",
       "      <td>Other</td>\n",
       "      <td>Manufacturing/Fabrication</td>\n",
       "      <td>5-10</td>\n",
       "      <td>10-20,000</td>\n",
       "    </tr>\n",
       "    <tr>\n",
       "      <th>3</th>\n",
       "      <td>Female</td>\n",
       "      <td>30-34</td>\n",
       "      <td>United States of America</td>\n",
       "      <td>Master’s degree</td>\n",
       "      <td>Computer science (software engineering, etc.)</td>\n",
       "      <td>Data Scientist</td>\n",
       "      <td>I am a student</td>\n",
       "      <td>0-1</td>\n",
       "      <td>0-10,000</td>\n",
       "    </tr>\n",
       "    <tr>\n",
       "      <th>5</th>\n",
       "      <td>Male</td>\n",
       "      <td>22-24</td>\n",
       "      <td>India</td>\n",
       "      <td>Master’s degree</td>\n",
       "      <td>Mathematics or statistics</td>\n",
       "      <td>Data Analyst</td>\n",
       "      <td>I am a student</td>\n",
       "      <td>0-1</td>\n",
       "      <td>0-10,000</td>\n",
       "    </tr>\n",
       "  </tbody>\n",
       "</table>\n",
       "</div>"
      ],
      "text/plain": [
       "   gender    age                   country    education_level  \\\n",
       "2    Male  30-34                 Indonesia  Bachelor’s degree   \n",
       "3  Female  30-34  United States of America    Master’s degree   \n",
       "5    Male  22-24                     India    Master’s degree   \n",
       "\n",
       "                                 undergrad_major            role  \\\n",
       "2             Engineering (non-computer focused)           Other   \n",
       "3  Computer science (software engineering, etc.)  Data Scientist   \n",
       "5                      Mathematics or statistics    Data Analyst   \n",
       "\n",
       "           employer_industry years_experience yearly_compensation  \n",
       "2  Manufacturing/Fabrication             5-10           10-20,000  \n",
       "3             I am a student              0-1            0-10,000  \n",
       "5             I am a student              0-1            0-10,000  "
      ]
     },
     "execution_count": 3,
     "metadata": {},
     "output_type": "execute_result"
    }
   ],
   "source": [
    "# Creating a table with personal data\n",
    "personal_data = mcA.iloc[:,:13].copy()\n",
    "\n",
    "# renaming columns\n",
    "cols = ['survey_duration', 'gender', 'gender_text', 'age', 'country', 'education_level', 'undergrad_major', 'role', 'role_text',\n",
    "        'employer_industry', 'employer_industry_text', 'years_experience', 'yearly_compensation']\n",
    "personal_data.columns = cols\n",
    "\n",
    "# Drop text and survey_duration columns \n",
    "personal_data.drop(['survey_duration', 'gender_text', 'role_text', 'employer_industry_text'], axis=1, inplace=True)\n",
    "\n",
    "personal_data.head(3)"
   ]
  },
  {
   "cell_type": "code",
   "execution_count": 4,
   "metadata": {},
   "outputs": [],
   "source": [
    "from pandas.api.types import CategoricalDtype\n",
    "\n",
    "# transforming compensation into category type and ordening the values\n",
    "categ = ['0-10,000', '10-20,000', '20-30,000', '30-40,000', '40-50,000',\n",
    "         '50-60,000', '60-70,000', '70-80,000', '80-90,000', '90-100,000',\n",
    "         '100-125,000', '125-150,000', '150-200,000', '200-250,000', '250-300,000',\n",
    "         '300-400,000', '400-500,000', '500,000+']\n",
    "cat_type = CategoricalDtype(categories=categ, ordered=True)\n",
    "personal_data.yearly_compensation = personal_data.yearly_compensation.astype(cat_type)\n",
    "# Doing this we are transforming the category \"I do not wish to disclose my approximate yearly compensation\" into NaN\n",
    "\n",
    "# transforming age into category type and sorting the values\n",
    "categ = ['18-21', '22-24', '25-29', '30-34', '35-39', '40-44', \n",
    "         '45-49', '50-54', '55-59', '60-69', '70-79', '80+']\n",
    "cat_type = CategoricalDtype(categories=categ, ordered=True)\n",
    "personal_data.age = personal_data.age.astype(cat_type)\n",
    "\n",
    "# transforming years of experience into category type and sorting the values\n",
    "categ = ['0-1', '1-2', '2-3', '3-4', '4-5', '5-10',\n",
    "         '10-15', '15-20', '20-25', '25-30', '30+']\n",
    "cat_type = CategoricalDtype(categories=categ, ordered=True)\n",
    "personal_data.years_experience = personal_data.years_experience.astype(cat_type)\n",
    "\n",
    "# transforming education level into category type and sorting the values\n",
    "categ = ['No formal education past high school', 'Some college/university study without earning a bachelor’s degree',\n",
    "         'Professional degree', 'Bachelor’s degree', 'Master’s degree', 'Doctoral degree', 'I prefer not to answer']\n",
    "cat_type = CategoricalDtype(categories=categ, ordered=True)\n",
    "personal_data.education_level = personal_data.education_level.astype(cat_type)"
   ]
  },
  {
   "cell_type": "code",
   "execution_count": 8,
   "metadata": {},
   "outputs": [
    {
     "data": {
      "text/plain": [
       "(12956, 9)"
      ]
     },
     "execution_count": 8,
     "metadata": {},
     "output_type": "execute_result"
    }
   ],
   "source": [
    "personal_data.shape"
   ]
  },
  {
   "cell_type": "code",
   "execution_count": 6,
   "metadata": {},
   "outputs": [],
   "source": [
    "personal_data.to_csv('transformed.csv')"
   ]
  }
 ],
 "metadata": {
  "kernelspec": {
   "display_name": "Python 3",
   "language": "python",
   "name": "python3"
  },
  "language_info": {
   "codemirror_mode": {
    "name": "ipython",
    "version": 3
   },
   "file_extension": ".py",
   "mimetype": "text/x-python",
   "name": "python",
   "nbconvert_exporter": "python",
   "pygments_lexer": "ipython3",
   "version": "3.6.8"
  }
 },
 "nbformat": 4,
 "nbformat_minor": 4
}
