{
 "cells": [
  {
   "cell_type": "code",
   "execution_count": 1,
   "metadata": {},
   "outputs": [],
   "source": [
    "import numpy as np \n",
    "import pandas as pd\n",
    "\n",
    "# Loading the multiple choices dataset, we will not look to the free form data on this study\n",
    "mc = pd.read_csv('data/multipleChoiceResponses.csv', low_memory=False)\n",
    "\n",
    "# Separating questions from answers\n",
    "# This Series stores all questions\n",
    "mcQ = mc.iloc[0,:]\n",
    "# This DataFrame stores all answers\n",
    "mcA = mc.iloc[1:,:]"
   ]
  },
  {
   "cell_type": "code",
   "execution_count": 2,
   "metadata": {},
   "outputs": [
    {
     "data": {
      "text/plain": [
       "((23860, 395), (23859, 395))"
      ]
     },
     "execution_count": 2,
     "metadata": {},
     "output_type": "execute_result"
    }
   ],
   "source": [
    "mc.shape, mcA.shape"
   ]
  },
  {
   "cell_type": "code",
   "execution_count": 3,
   "metadata": {},
   "outputs": [],
   "source": [
    "# removing everyone that took less than 4 minutes or more than 600 minutes to answer the survey\n",
    "less3 = mcA[round(mcA.iloc[:,0].astype(int) / 60) <= 4].index\n",
    "mcA = mcA.drop(less3, axis=0)\n",
    "more300 = mcA[round(mcA.iloc[:,0].astype(int) / 60) >= 600].index\n",
    "mcA = mcA.drop(more300, axis=0)\n",
    "\n",
    "# removing gender trolls, because we noticed from other kernels thata there are some ouliers here\n",
    "gender_trolls = mcA[(mcA.Q1 == 'Prefer to self-describe') | (mcA.Q1 == 'Prefer not to say')].index\n",
    "mcA = mcA.drop(list(gender_trolls), axis=0)\n",
    "\n",
    "# removing student trolls, because a student won't make more than 250k a year.\n",
    "student_trolls = mcA[((mcA.Q6 == 'Student') & (mcA.Q9 > '500,000+')) | \\\n",
    "                     ((mcA.Q6 == 'Student') & (mcA.Q9 > '400-500,000')) | \\\n",
    "                     ((mcA.Q6 == 'Student') & (mcA.Q9 > '300-400,000')) | \\\n",
    "                     ((mcA.Q6 == 'Student') & (mcA.Q9 > '250-300,000'))].index\n",
    "mcA = mcA.drop(list(student_trolls), axis=0)\n",
    "\n",
    "# dropping all NaN and I do not wish to disclose my approximate yearly compensation, because we are only interested in respondents that revealed their earnings\n",
    "mcA = mcA[~mcA.Q9.isnull()].copy()\n",
    "not_disclosed = mcA[mcA.Q9 == 'I do not wish to disclose my approximate yearly compensation'].index\n",
    "mcA = mcA.drop(list(not_disclosed), axis=0)"
   ]
  },
  {
   "cell_type": "code",
   "execution_count": 4,
   "metadata": {},
   "outputs": [],
   "source": [
    "# Remove all \"OTHER_TEXT columns\"\n",
    "mcA = mcA[[c for c in mcA.columns if not c.endswith(\"_OTHER_TEXT\") and c != 'Q32_OTHER']]"
   ]
  },
  {
   "cell_type": "code",
   "execution_count": 5,
   "metadata": {},
   "outputs": [
    {
     "data": {
      "text/plain": [
       "(12956, 365)"
      ]
     },
     "execution_count": 5,
     "metadata": {},
     "output_type": "execute_result"
    }
   ],
   "source": [
    "mcA.shape"
   ]
  },
  {
   "cell_type": "code",
   "execution_count": 6,
   "metadata": {},
   "outputs": [],
   "source": [
    "q12_software_dummies = pd.get_dummies(mcA[['Q12_MULTIPLE_CHOICE']])  # Encode Q12"
   ]
  },
  {
   "cell_type": "code",
   "execution_count": 7,
   "metadata": {},
   "outputs": [],
   "source": [
    "mcA = mcA[[c for c in mcA.columns if not c.endswith(\"TEXT\")]]  # Remove all Q12_Part_*\n",
    "mcA = mcA[[c for c in mcA.columns if c != \"Q12_MULTIPLE_CHOICE\"]]  # Remove Q12 itself\n",
    "mcA = pd.concat([mcA, q12_software_dummies], axis=1)  # Append encoded Q12"
   ]
  },
  {
   "cell_type": "code",
   "execution_count": 8,
   "metadata": {},
   "outputs": [
    {
     "name": "stderr",
     "output_type": "stream",
     "text": [
      "/home/ptyshevskyi/envs/loc_env/lib/python3.6/site-packages/pandas/core/ops/__init__.py:1115: FutureWarning: elementwise comparison failed; returning scalar instead, but in the future will perform elementwise comparison\n",
      "  result = method(y)\n"
     ]
    }
   ],
   "source": [
    "minusone_cols = (mcA == '-1').sum(axis=0)\n",
    "minusone_cols = minusone_cols[minusone_cols > 0]"
   ]
  },
  {
   "cell_type": "code",
   "execution_count": 9,
   "metadata": {},
   "outputs": [],
   "source": [
    "for name, v in zip(minusone_cols.index, minusone_cols):\n",
    "    print(name, v)"
   ]
  },
  {
   "cell_type": "code",
   "execution_count": 10,
   "metadata": {},
   "outputs": [
    {
     "data": {
      "text/html": [
       "<div>\n",
       "<style scoped>\n",
       "    .dataframe tbody tr th:only-of-type {\n",
       "        vertical-align: middle;\n",
       "    }\n",
       "\n",
       "    .dataframe tbody tr th {\n",
       "        vertical-align: top;\n",
       "    }\n",
       "\n",
       "    .dataframe thead th {\n",
       "        text-align: right;\n",
       "    }\n",
       "</style>\n",
       "<table border=\"1\" class=\"dataframe\">\n",
       "  <thead>\n",
       "    <tr style=\"text-align: right;\">\n",
       "      <th></th>\n",
       "      <th>Q31_Part_11</th>\n",
       "      <th>Q31_Part_12</th>\n",
       "      <th>Q32</th>\n",
       "      <th>Q33_Part_1</th>\n",
       "      <th>Q33_Part_2</th>\n",
       "    </tr>\n",
       "  </thead>\n",
       "  <tbody>\n",
       "    <tr>\n",
       "      <th>2</th>\n",
       "      <td>NaN</td>\n",
       "      <td>NaN</td>\n",
       "      <td>NaN</td>\n",
       "      <td>NaN</td>\n",
       "      <td>NaN</td>\n",
       "    </tr>\n",
       "    <tr>\n",
       "      <th>3</th>\n",
       "      <td>NaN</td>\n",
       "      <td>NaN</td>\n",
       "      <td>Time Series Data</td>\n",
       "      <td>Government websites</td>\n",
       "      <td>NaN</td>\n",
       "    </tr>\n",
       "    <tr>\n",
       "      <th>5</th>\n",
       "      <td>NaN</td>\n",
       "      <td>NaN</td>\n",
       "      <td>NaN</td>\n",
       "      <td>NaN</td>\n",
       "      <td>NaN</td>\n",
       "    </tr>\n",
       "    <tr>\n",
       "      <th>7</th>\n",
       "      <td>NaN</td>\n",
       "      <td>NaN</td>\n",
       "      <td>Numerical Data</td>\n",
       "      <td>NaN</td>\n",
       "      <td>NaN</td>\n",
       "    </tr>\n",
       "    <tr>\n",
       "      <th>8</th>\n",
       "      <td>NaN</td>\n",
       "      <td>NaN</td>\n",
       "      <td>Image Data</td>\n",
       "      <td>NaN</td>\n",
       "      <td>NaN</td>\n",
       "    </tr>\n",
       "  </tbody>\n",
       "</table>\n",
       "</div>"
      ],
      "text/plain": [
       "  Q31_Part_11 Q31_Part_12               Q32           Q33_Part_1 Q33_Part_2\n",
       "2         NaN         NaN               NaN                  NaN        NaN\n",
       "3         NaN         NaN  Time Series Data  Government websites        NaN\n",
       "5         NaN         NaN               NaN                  NaN        NaN\n",
       "7         NaN         NaN    Numerical Data                  NaN        NaN\n",
       "8         NaN         NaN        Image Data                  NaN        NaN"
      ]
     },
     "execution_count": 10,
     "metadata": {},
     "output_type": "execute_result"
    }
   ],
   "source": [
    "mcA.iloc[:5, 235:240]"
   ]
  },
  {
   "cell_type": "code",
   "execution_count": 11,
   "metadata": {},
   "outputs": [
    {
     "data": {
      "text/html": [
       "<div>\n",
       "<style scoped>\n",
       "    .dataframe tbody tr th:only-of-type {\n",
       "        vertical-align: middle;\n",
       "    }\n",
       "\n",
       "    .dataframe tbody tr th {\n",
       "        vertical-align: top;\n",
       "    }\n",
       "\n",
       "    .dataframe thead th {\n",
       "        text-align: right;\n",
       "    }\n",
       "</style>\n",
       "<table border=\"1\" class=\"dataframe\">\n",
       "  <thead>\n",
       "    <tr style=\"text-align: right;\">\n",
       "      <th></th>\n",
       "      <th>Time from Start to Finish (seconds)</th>\n",
       "      <th>Q1</th>\n",
       "      <th>Q2</th>\n",
       "      <th>Q3</th>\n",
       "      <th>Q4</th>\n",
       "      <th>Q5</th>\n",
       "      <th>Q6</th>\n",
       "      <th>Q7</th>\n",
       "      <th>Q8</th>\n",
       "      <th>Q9</th>\n",
       "      <th>...</th>\n",
       "      <th>Q50_Part_5</th>\n",
       "      <th>Q50_Part_6</th>\n",
       "      <th>Q50_Part_7</th>\n",
       "      <th>Q50_Part_8</th>\n",
       "      <th>Q12_MULTIPLE_CHOICE_Advanced statistical software (SPSS, SAS, etc.)</th>\n",
       "      <th>Q12_MULTIPLE_CHOICE_Basic statistical software (Microsoft Excel, Google Sheets, etc.)</th>\n",
       "      <th>Q12_MULTIPLE_CHOICE_Business intelligence software (Salesforce, Tableau, Spotfire, etc.)</th>\n",
       "      <th>Q12_MULTIPLE_CHOICE_Cloud-based data software &amp; APIs (AWS, GCP, Azure, etc.)</th>\n",
       "      <th>Q12_MULTIPLE_CHOICE_Local or hosted development environments (RStudio, JupyterLab, etc.)</th>\n",
       "      <th>Q12_MULTIPLE_CHOICE_Other</th>\n",
       "    </tr>\n",
       "  </thead>\n",
       "  <tbody>\n",
       "    <tr>\n",
       "      <th>2</th>\n",
       "      <td>434</td>\n",
       "      <td>Male</td>\n",
       "      <td>30-34</td>\n",
       "      <td>Indonesia</td>\n",
       "      <td>Bachelor’s degree</td>\n",
       "      <td>Engineering (non-computer focused)</td>\n",
       "      <td>Other</td>\n",
       "      <td>Manufacturing/Fabrication</td>\n",
       "      <td>5-10</td>\n",
       "      <td>10-20,000</td>\n",
       "      <td>...</td>\n",
       "      <td>NaN</td>\n",
       "      <td>NaN</td>\n",
       "      <td>NaN</td>\n",
       "      <td>NaN</td>\n",
       "      <td>0</td>\n",
       "      <td>1</td>\n",
       "      <td>0</td>\n",
       "      <td>0</td>\n",
       "      <td>0</td>\n",
       "      <td>0</td>\n",
       "    </tr>\n",
       "  </tbody>\n",
       "</table>\n",
       "<p>1 rows × 365 columns</p>\n",
       "</div>"
      ],
      "text/plain": [
       "  Time from Start to Finish (seconds)    Q1     Q2         Q3  \\\n",
       "2                                 434  Male  30-34  Indonesia   \n",
       "\n",
       "                  Q4                                  Q5     Q6  \\\n",
       "2  Bachelor’s degree  Engineering (non-computer focused)  Other   \n",
       "\n",
       "                          Q7    Q8         Q9  ... Q50_Part_5 Q50_Part_6  \\\n",
       "2  Manufacturing/Fabrication  5-10  10-20,000  ...        NaN        NaN   \n",
       "\n",
       "  Q50_Part_7 Q50_Part_8  \\\n",
       "2        NaN        NaN   \n",
       "\n",
       "  Q12_MULTIPLE_CHOICE_Advanced statistical software (SPSS, SAS, etc.)  \\\n",
       "2                                                  0                    \n",
       "\n",
       "  Q12_MULTIPLE_CHOICE_Basic statistical software (Microsoft Excel, Google Sheets, etc.)  \\\n",
       "2                                                  1                                      \n",
       "\n",
       "  Q12_MULTIPLE_CHOICE_Business intelligence software (Salesforce, Tableau, Spotfire, etc.)  \\\n",
       "2                                                  0                                         \n",
       "\n",
       "  Q12_MULTIPLE_CHOICE_Cloud-based data software & APIs (AWS, GCP, Azure, etc.)  \\\n",
       "2                                                  0                             \n",
       "\n",
       "  Q12_MULTIPLE_CHOICE_Local or hosted development environments (RStudio, JupyterLab, etc.)  \\\n",
       "2                                                  0                                         \n",
       "\n",
       "  Q12_MULTIPLE_CHOICE_Other  \n",
       "2                         0  \n",
       "\n",
       "[1 rows x 365 columns]"
      ]
     },
     "execution_count": 11,
     "metadata": {},
     "output_type": "execute_result"
    }
   ],
   "source": [
    "mcA.head(1)"
   ]
  },
  {
   "cell_type": "code",
   "execution_count": 12,
   "metadata": {},
   "outputs": [],
   "source": [
    "descriptive_names = ['duration', 'sex', 'age', 'country', 'education',  'undergrad_major', 'role', 'industry', 'experience', 'salary'] \n",
    "mcA.columns = descriptive_names + list(mcA.columns[len(descriptive_names):])"
   ]
  },
  {
   "cell_type": "code",
   "execution_count": 19,
   "metadata": {},
   "outputs": [],
   "source": [
    "cols = [column for column in mcA.columns if \"Part\" in column ]\n",
    "def replace_vals(row):\n",
    "    for col in cols:\n",
    "        if pd.isna(row[col]):\n",
    "            row[col] = 0\n",
    "        elif row[col]:\n",
    "            row[col] = 1\n",
    "    return row\n",
    "test = mcA.apply(replace_vals, axis=1)"
   ]
  },
  {
   "cell_type": "code",
   "execution_count": 46,
   "metadata": {},
   "outputs": [],
   "source": [
    "na_columns = test.columns[pd.isna(test).sum() > 0]"
   ]
  },
  {
   "cell_type": "code",
   "execution_count": 47,
   "metadata": {},
   "outputs": [
    {
     "data": {
      "text/plain": [
       "undergrad_major      91\n",
       "experience           61\n",
       "Q10                  75\n",
       "Q17                2836\n",
       "Q18                 618\n",
       "Q20                4180\n",
       "Q22                4624\n",
       "Q23                 737\n",
       "Q24                 753\n",
       "Q25                 772\n",
       "Q26                 778\n",
       "Q32                3571\n",
       "Q37                6270\n",
       "Q40                2300\n",
       "Q43                3955\n",
       "Q46                3797\n",
       "Q48                3783\n",
       "dtype: int64"
      ]
     },
     "execution_count": 47,
     "metadata": {},
     "output_type": "execute_result"
    }
   ],
   "source": [
    "pd.isna(test[na_columns]).sum()"
   ]
  },
  {
   "cell_type": "code",
   "execution_count": 55,
   "metadata": {},
   "outputs": [
    {
     "data": {
      "text/plain": [
       "(12956, 365)"
      ]
     },
     "execution_count": 55,
     "metadata": {},
     "output_type": "execute_result"
    }
   ],
   "source": [
    "test.shape"
   ]
  },
  {
   "cell_type": "code",
   "execution_count": 28,
   "metadata": {},
   "outputs": [
    {
     "data": {
      "text/plain": [
       "(12956, 17)"
      ]
     },
     "execution_count": 28,
     "metadata": {},
     "output_type": "execute_result"
    }
   ],
   "source": [
    "test[test.columns[pd.isna(test).sum() > 0]].shape"
   ]
  },
  {
   "cell_type": "code",
   "execution_count": 21,
   "metadata": {},
   "outputs": [],
   "source": [
    "test.to_csv('transformed_v2.csv')"
   ]
  }
 ],
 "metadata": {
  "kernelspec": {
   "display_name": "Python 3",
   "language": "python",
   "name": "python3"
  },
  "language_info": {
   "codemirror_mode": {
    "name": "ipython",
    "version": 3
   },
   "file_extension": ".py",
   "mimetype": "text/x-python",
   "name": "python",
   "nbconvert_exporter": "python",
   "pygments_lexer": "ipython3",
   "version": "3.6.8"
  }
 },
 "nbformat": 4,
 "nbformat_minor": 4
}
